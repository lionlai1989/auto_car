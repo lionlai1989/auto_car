{
 "cells": [
  {
   "cell_type": "markdown",
   "metadata": {},
   "source": [
    "# Advanced Lane Lines\n",
    "\n",
    "## Deep Learning\n",
    "\n",
    "## Project: Build a Traffic Sign Recognition Classifier\n",
    "\n",
    "In this notebook, a template is provided for you to implement your functionality in stages, which is required to successfully complete this project. If additional code is required that cannot be included in the notebook, be sure that the Python code is successfully imported and included in your submission if necessary. \n",
    "\n",
    "> **Note**: Once you have completed all of the code implementations, you need to finalize your work by exporting the iPython Notebook as an HTML document. Before exporting the notebook to html, all of the code cells need to have been run so that reviewers can see the final implementation and output. You can then export the notebook by using the menu above and navigating to  \\n\",\n",
    "    \"**File -> Download as -> HTML (.html)**. Include the finished document along with this notebook as your submission. \n",
    "\n",
    "In addition to implementing code, there is a writeup to complete. The writeup should be completed in a separate file, which can be either a markdown file or a pdf document. There is a [write up template](https://github.com/udacity/CarND-Traffic-Sign-Classifier-Project/blob/master/writeup_template.md) that can be used to guide the writing process. Completing the code template and writeup template will cover all of the [rubric points](https://review.udacity.com/#!/rubrics/481/view) for this project.\n",
    "\n",
    "The [rubric](https://review.udacity.com/#!/rubrics/481/view) contains \"Stand Out Suggestions\" for enhancing the project beyond the minimum requirements. The stand out suggestions are optional. If you decide to pursue the \"stand out suggestions\", you can include the code in this Ipython notebook and also discuss the results in the writeup file.\n",
    "\n",
    "\n",
    ">**Note:** Code and Markdown cells can be executed using the **Shift + Enter** keyboard shortcut. In addition, Markdown cells can be edited by typically double-clicking the cell to enter edit mode."
   ]
  },
  {
   "cell_type": "markdown",
   "metadata": {},
   "source": [
    "---\n",
    "## Step 0: Load The Data"
   ]
  },
  {
   "cell_type": "markdown",
   "metadata": {},
   "source": [
    "---\n",
    "\n",
    "## Step 1: Dataset Summary & Exploration\n",
    "\n",
    "The pickled data is a dictionary with 4 key/value pairs:\n",
    "\n",
    "- `'features'` is a 4D array containing raw pixel data of the traffic sign images, (num examples, width, height, channels).\n",
    "- `'labels'` is a 1D array containing the label/class id of the traffic sign. The file `signnames.csv` contains id -> name mappings for each id.\n",
    "- `'sizes'` is a list containing tuples, (width, height) representing the original width and height the image.\n",
    "- `'coords'` is a list containing tuples, (x1, y1, x2, y2) representing coordinates of a bounding box around the sign in the image. **THESE COORDINATES ASSUME THE ORIGINAL IMAGE. THE PICKLED DATA CONTAINS RESIZED VERSIONS (32 by 32) OF THESE IMAGES**\n",
    "\n",
    "Complete the basic data summary below. Use python, numpy and/or pandas methods to calculate the data summary rather than hard coding the results. For example, the [pandas shape method](http://pandas.pydata.org/pandas-docs/stable/generated/pandas.DataFrame.shape.html) might be useful for calculating some of the summary results. "
   ]
  },
  {
   "cell_type": "markdown",
   "metadata": {},
   "source": [
    "### Provide a Basic Summary of the Data Set Using Python, Numpy and/or Pandas"
   ]
  },
  {
   "cell_type": "code",
   "execution_count": 2,
   "metadata": {},
   "outputs": [
    {
     "name": "stdout",
     "output_type": "stream",
     "text": [
      "Number of training examples = 34799\n",
      "Number of validation examples = 4410\n",
      "Number of testing examples = 12630\n",
      "Image data shape = (32, 32, 3)\n",
      "Number of classes = 43\n"
     ]
    }
   ],
   "source": [
    "n_train = X_train.shape[0]\n",
    "n_validation = X_valid.shape[0]\n",
    "n_test = X_test.shape[0]\n",
    "image_shape = X_train[0].shape\n",
    "n_classes = len(set(y_train))\n",
    "\n",
    "print(\"Number of training examples =\", n_train)\n",
    "print(\"Number of validation examples =\", n_validation)\n",
    "print(\"Number of testing examples =\", n_test)\n",
    "print(\"Image data shape =\", image_shape)\n",
    "print(\"Number of classes =\", n_classes)"
   ]
  },
  {
   "cell_type": "markdown",
   "metadata": {},
   "source": [
    "### Include an exploratory visualization of the dataset"
   ]
  },
  {
   "cell_type": "markdown",
   "metadata": {},
   "source": [
    "Visualize the German Traffic Signs Dataset using the pickled file(s). This is open ended, suggestions include: plotting traffic sign images, plotting the count of each sign, etc. \n",
    "\n",
    "The [Matplotlib](http://matplotlib.org/) [examples](http://matplotlib.org/examples/index.html) and [gallery](http://matplotlib.org/gallery.html) pages are a great resource for doing visualizations in Python.\n"
   ]
  },
  {
   "cell_type": "code",
   "execution_count": 3,
   "metadata": {},
   "outputs": [
    {
     "name": "stdout",
     "output_type": "stream",
     "text": [
      "Sign No.0 means Speed limit (20km/h)\n"
     ]
    },
    {
     "data": {
      "image/png": "[encoded data removed]",
      "text/plain": [
       "<matplotlib.figure.Figure at 0x10df25d30>"
      ]
     },
     "metadata": {},
     "output_type": "display_data"
    }
   ],
   "source": [
    "signs = {}\n",
    "with open('signnames.csv', newline='') as csvfile:\n",
    "    for row in csv.reader(csvfile, delimiter=','):\n",
    "        signs[row[0]] = row[1]\n",
    "\n",
    "# Visualizations will be shown in the notebook.\n",
    "%matplotlib inline\n",
    "\n",
    "num = 10000\n",
    "my_dpi=192 # Setting the dpi of my monitor.\n",
    "\n",
    "plt.figure(figsize=(512/my_dpi, 512/my_dpi), dpi=my_dpi) # I want to show my image of size 512x512.\n",
    "plt.subplot(121)\n",
    "plt.imshow(X_train[num])\n",
    "tmp = cv2.cvtColor(X_train[num], cv2.COLOR_BGR2GRAY)\n",
    "plt.subplot(122)\n",
    "plt.axis(\"off\")\n",
    "plt.imshow(tmp, cmap='gray')\n",
    "plt.savefig('fig_photo/color_gray.png', dpi=my_dpi, bbox_inches='tight')\n",
    "\n",
    "print(\"Sign No.%d means %s\" % (y_train[num], signs[str(y_train[num])]))\n"
   ]
  },
  {
   "cell_type": "markdown",
   "metadata": {},
   "source": [
    "----\n",
    "\n",
    "## Step 2: Design and Test a Model Architecture\n",
    "\n",
    "Design and implement a deep learning model that learns to recognize traffic signs. Train and test your model on the [German Traffic Sign Dataset](http://benchmark.ini.rub.de/?section=gtsrb&subsection=dataset).\n",
    "\n",
    "The LeNet-5 implementation shown in the [classroom](https://classroom.udacity.com/nanodegrees/nd013/parts/fbf77062-5703-404e-b60c-95b78b2f3f9e/modules/6df7ae49-c61c-4bb2-a23e-6527e69209ec/lessons/601ae704-1035-4287-8b11-e2c2716217ad/concepts/d4aca031-508f-4e0b-b493-e7b706120f81) at the end of the CNN lesson is a solid starting point. You'll have to change the number of classes and possibly the preprocessing, but aside from that it's plug and play! \n",
    "\n",
    "With the LeNet-5 solution from the lecture, you should expect a validation set accuracy of about 0.89. To meet specifications, the validation set accuracy will need to be at least 0.93. It is possible to get an even higher accuracy, but 0.93 is the minimum for a successful project submission. \n",
    "\n",
    "There are various aspects to consider when thinking about this problem:\n",
    "\n",
    "- Neural network architecture (is the network over or underfitting?)\n",
    "- Play around preprocessing techniques (normalization, rgb to grayscale, etc)\n",
    "- Number of examples per label (some have more than others).\n",
    "- Generate fake data.\n",
    "\n",
    "Here is an example of a [published baseline model on this problem](http://yann.lecun.com/exdb/publis/pdf/sermanet-ijcnn-11.pdf). It's not required to be familiar with the approach used in the paper but, it's good practice to try to read papers like these."
   ]
  },
  {
   "cell_type": "markdown",
   "metadata": {},
   "source": [
    "### Pre-process the Data Set (normalization, grayscale, etc.)"
   ]
  },
  {
   "cell_type": "markdown",
   "metadata": {},
   "source": [
    "Minimally, the image data should be normalized so that the data has mean zero and equal variance. For image data, `(pixel - 128)/ 128` is a quick way to approximately normalize the data and can be used in this project. \n",
    "\n",
    "Other pre-processing steps are optional. You can try different techniques to see if it improves performance. \n",
    "\n",
    "Use the code cell (or multiple code cells, if necessary) to implement the first step of your project."
   ]
  },
  {
   "cell_type": "markdown",
   "metadata": {},
   "source": [
    "#### Visualize The Distribution of The Dataset"
   ]
  },
  {
   "cell_type": "code",
   "execution_count": 4,
   "metadata": {
    "scrolled": true
   },
   "outputs": [
    {
     "data": {
      "image/png": "[encoded data removed]",
      "text/plain": [
       "<matplotlib.figure.Figure at 0x106491c88>"
      ]
     },
     "metadata": {},
     "output_type": "display_data"
    }
   ],
   "source": [
    "def visualize_data(train, valid, test, filename):\n",
    "    fig = plt.figure()\n",
    "    bins = np.linspace(0, 43, 44)\n",
    "    \n",
    "    plt.xlabel('Labels')\n",
    "    plt.ylabel('Numbers')\n",
    "    plt.hist(train, bins, align='left', color='r', alpha=0.6, label='train')\n",
    "    plt.hist(test, bins, align='left', color='g', alpha=0.8, label='test')\n",
    "    plt.hist(valid, bins, align='left', color='b', alpha=0.6, label='valid')\n",
    "    plt.legend()\n",
    "    fig.savefig('fig_photo/' + filename)\n",
    "    plt.show()\n",
    "    \n",
    "visualize_data(y_train, y_valid, y_test, 'label_distribution')"
   ]
  },
  {
   "cell_type": "markdown",
   "metadata": {},
   "source": [
    "#### Augment The Data"
   ]
  },
  {
   "cell_type": "code",
   "execution_count": 7,
   "metadata": {},
   "outputs": [
    {
     "name": "stdout",
     "output_type": "stream",
     "text": [
      "Normalized Validation Dataset Shape's is (4410, 32, 32, 1)\n"
     ]
    }
   ],
   "source": [
    "X_valid_gray = []\n",
    "for i in range(cp_X_valid.shape[0]):\n",
    "    gray_img = cv2.cvtColor(cp_X_valid[i], cv2.COLOR_BGR2GRAY)[:, :, None]\n",
    "    X_valid_gray.append(gray_img)\n",
    "X_valid_gray = np.array(X_valid_gray)\n",
    "\n",
    "#nor_X_valid = (X_valid_gray - train_mean) / train_std\n",
    "nor_X_valid = a * X_valid_gray + b\n",
    "\n",
    "print(\"Normalized Validation Dataset Shape's is\", nor_X_valid.shape)"
   ]
  },
  {
   "cell_type": "code",
   "execution_count": 8,
   "metadata": {},
   "outputs": [
    {
     "name": "stdout",
     "output_type": "stream",
     "text": [
      "Normalized Testing Dataset Shape's is (12630, 32, 32, 1)\n"
     ]
    }
   ],
   "source": [
    "cp_X_test = np.copy(X_test)\n",
    "cp_y_test = np.copy(y_test)\n",
    "\n",
    "X_test_gray = []\n",
    "for i in range(X_test.shape[0]):\n",
    "    gray_img = cv2.cvtColor(cp_X_test[i], cv2.COLOR_BGR2GRAY)[:, :, None]\n",
    "    X_test_gray.append(gray_img)\n",
    "X_test_gray = np.array(X_test_gray)\n",
    "nor_X_test = a * X_test_gray + b\n",
    "\n",
    "print(\"Normalized Testing Dataset Shape's is\", nor_X_test.shape)"
   ]
  },
  {
   "cell_type": "markdown",
   "metadata": {},
   "source": [
    "### Model Architecture"
   ]
  },
  {
   "cell_type": "code",
   "execution_count": 9,
   "metadata": {
    "collapsed": true
   },
   "outputs": [],
   "source": [
    "import tensorflow as tf\n",
    "from tensorflow.contrib.layers import flatten\n",
    "\n",
    "def LeNet(x):    \n",
    "    # Hyperparameters\n",
    "    mu = 0\n",
    "    sigma = 0.1\n",
    "    n_label = 43\n",
    "    n_l1_filter = 24 # 6 18 \n",
    "    n_l2_filter = 64 # 16 48\n",
    "    n_l3_filter = 96 # \n",
    "    n_l3_fullconnect = 480 # 120 360\n",
    "    n_l4_fullconnect = 336 # 84 252\n",
    "    color_channel = x.shape[3].value\n",
    "\n",
    "    # SOLUTION: Layer 1: Convolutional. Input = 32x32x(1|3). Output = 28x28x n_l1_filter.\n",
    "    conv1_W = tf.Variable(tf.truncated_normal(shape=(5, 5, color_channel, n_l1_filter), mean = mu, stddev = sigma))\n",
    "    conv1_b = tf.Variable(tf.zeros(n_l1_filter))\n",
    "    conv1   = tf.nn.conv2d(x, conv1_W, strides=[1, 1, 1, 1], padding='VALID') + conv1_b\n",
    "    # SOLUTION: Activation.\n",
    "    conv1 = tf.nn.relu(conv1, name='conv1')\n",
    "    # SOLUTION: Pooling. Input = 28x28x n_l1_filter. Output = 14x14x n_l1_filter.\n",
    "    conv1 = tf.nn.max_pool(conv1, ksize=[1, 2, 2, 1], strides=[1, 2, 2, 1], padding='VALID')\n",
    "\n",
    "    # SOLUTION: Layer 2: Convolutional. Output = 10x10x n_l2_filter.\n",
    "    conv2_W = tf.Variable(tf.truncated_normal(shape=(5, 5, n_l1_filter, n_l2_filter), mean = mu, stddev = sigma))\n",
    "    conv2_b = tf.Variable(tf.zeros(n_l2_filter))\n",
    "    conv2   = tf.nn.conv2d(conv1, conv2_W, strides=[1, 1, 1, 1], padding='VALID') + conv2_b\n",
    "    # SOLUTION: Activation.\n",
    "    conv2 = tf.nn.relu(conv2, name='conv2')\n",
    "    # SOLUTION: Pooling. Input = 10x10x n_l2_filter. Output = 5x5x n_l2_filter.\n",
    "    conv2 = tf.nn.max_pool(conv2, ksize=[1, 2, 2, 1], strides=[1, 2, 2, 1], padding='VALID')\n",
    "\n",
    "    # SOLUTION: Layer 3: Convolutional. Output = 3x3x n_l3_filter.\n",
    "    conv3_W = tf.Variable(tf.truncated_normal(shape=(3, 3, n_l2_filter, n_l3_filter), mean = mu, stddev = sigma))\n",
    "    conv3_b = tf.Variable(tf.zeros(n_l3_filter))\n",
    "    conv3   = tf.nn.conv2d(conv2, conv3_W, strides=[1, 1, 1, 1], padding='VALID') + conv3_b\n",
    "    # SOLUTION: Activation.\n",
    "    conv3 = tf.nn.relu(conv3, name='conv3')\n",
    "    # SOLUTION: Pooling. Input = 3x3x n_l3_filter. Output = 3x3x n_l3_filter.\n",
    "    conv3 = tf.nn.max_pool(conv3, ksize=[1, 1, 1, 1], strides=[1, 1, 1, 1], padding='VALID')\n",
    "    \n",
    "    # SOLUTION: Flatten. Input = 3x3x n_l3_filter. Output = 3*3*n_l3_filter.\n",
    "    fc0   = flatten(conv3)\n",
    "\n",
    "    # SOLUTION: Layer 3: Fully Connected. Input = 3*3*n_l3_filter. Output = n_l3_fullconnect.\n",
    "    fc1_W = tf.Variable(tf.truncated_normal(shape=(3*3*n_l3_filter, n_l3_fullconnect), mean = mu, stddev = sigma))\n",
    "    fc1_b = tf.Variable(tf.zeros(n_l3_fullconnect))\n",
    "    fc1   = tf.matmul(fc0, fc1_W) + fc1_b\n",
    "    # SOLUTION: Activation.\n",
    "    fc1    = tf.nn.relu(fc1)\n",
    "\n",
    "    # SOLUTION: Layer 4: Fully Connected. Input = n_l3_fullconnect. Output = n_l4_fullconnect.\n",
    "    fc2_W  = tf.Variable(tf.truncated_normal(shape=(n_l3_fullconnect, n_l4_fullconnect), mean = mu, stddev = sigma))\n",
    "    fc2_b  = tf.Variable(tf.zeros(n_l4_fullconnect))\n",
    "    fc2    = tf.matmul(fc1, fc2_W) + fc2_b\n",
    "    # SOLUTION: Activation.\n",
    "    fc2    = tf.nn.relu(fc2)\n",
    "\n",
    "    # SOLUTION: Layer 5: Fully Connected. Input = n_l4_fullconnect. Output = n_label.\n",
    "    fc3_W  = tf.Variable(tf.truncated_normal(shape=(n_l4_fullconnect, n_label), mean = mu, stddev = sigma))\n",
    "    fc3_b  = tf.Variable(tf.zeros(n_label))\n",
    "    logits = tf.matmul(fc2, fc3_W) + fc3_b\n",
    "\n",
    "    return logits\n"
   ]
  },
  {
   "cell_type": "markdown",
   "metadata": {},
   "source": [
    "### Train, Validate and Test the Model"
   ]
  },
  {
   "cell_type": "markdown",
   "metadata": {},
   "source": [
    "A validation set can be used to assess how well the model is performing. A low accuracy on the training and validation\n",
    "sets imply underfitting. A high accuracy on the training set but low accuracy on the validation set implies overfitting."
   ]
  },
  {
   "cell_type": "code",
   "execution_count": 10,
   "metadata": {
    "collapsed": true
   },
   "outputs": [],
   "source": [
    "EPOCHS = 15\n",
    "BATCH_SIZE = 128\n",
    "color_channel = nor_X_train.shape[3]"
   ]
  },
  {
   "cell_type": "code",
   "execution_count": 11,
   "metadata": {
    "collapsed": true
   },
   "outputs": [],
   "source": [
    "x = tf.placeholder(tf.float32, (None, 32, 32, color_channel))\n",
    "y = tf.placeholder(tf.int32, (None))\n",
    "one_hot_y = tf.one_hot(y, 43)"
   ]
  },
  {
   "cell_type": "code",
   "execution_count": 12,
   "metadata": {
    "collapsed": true
   },
   "outputs": [],
   "source": [
    "logits = LeNet(x)"
   ]
  },
  {
   "cell_type": "code",
   "execution_count": null,
   "metadata": {
    "collapsed": true
   },
   "outputs": [],
   "source": [
    "correct_prediction = tf.equal(tf.argmax(logits, 1), tf.argmax(one_hot_y, 1))\n",
    "accuracy_operation = tf.reduce_mean(tf.cast(correct_prediction, tf.float32))\n",
    "saver = tf.train.Saver()\n",
    "\n",
    "def evaluate(X_data, y_data):\n",
    "    num_examples = len(X_data)\n",
    "    total_accuracy = 0\n",
    "    sess = tf.get_default_session()\n",
    "    for offset in range(0, num_examples, BATCH_SIZE):\n",
    "        batch_x, batch_y = X_data[offset:offset+BATCH_SIZE], y_data[offset:offset+BATCH_SIZE]\n",
    "        accuracy = sess.run(accuracy_operation, feed_dict={x: batch_x, y: batch_y})\n",
    "        total_accuracy += (accuracy * len(batch_x))\n",
    "    return total_accuracy / num_examples\n"
   ]
  },
  {
   "cell_type": "code",
   "execution_count": null,
   "metadata": {
    "collapsed": true
   },
   "outputs": [],
   "source": [
    "# Run this cell for training CNN.\n",
    "rate = 0.001\n",
    "   \n",
    "cross_entropy = tf.nn.softmax_cross_entropy_with_logits(labels=one_hot_y, logits=logits)\n",
    "loss_operation = tf.reduce_mean(cross_entropy)\n",
    "optimizer = tf.train.AdamOptimizer(learning_rate = rate)\n",
    "training_operation = optimizer.minimize(loss_operation)\n",
    "\n",
    "with tf.Session() as sess:\n",
    "    sess.run(tf.global_variables_initializer())\n",
    "    num_examples = len(nor_X_train)\n",
    "    print('Total number of training data:', num_examples)\n",
    "    print(\"Training...\")\n",
    "    print()\n",
    "    \n",
    "    train_result = []\n",
    "    valid_result = []\n",
    "    test_result = []\n",
    "\n",
    "    for i in range(EPOCHS):\n",
    "        nor_X_train, cp_y_train = shuffle(nor_X_train, cp_y_train)\n",
    "        for offset in range(0, num_examples, BATCH_SIZE):\n",
    "            end = offset + BATCH_SIZE\n",
    "            batch_x, batch_y = nor_X_train[offset:end], cp_y_train[offset:end]\n",
    "            sess.run(training_operation, feed_dict={x: batch_x, y: batch_y})\n",
    "            \n",
    "        training_accuracy = evaluate(nor_X_train, cp_y_train)\n",
    "        validation_accuracy = evaluate(nor_X_valid, cp_y_valid)\n",
    "        testing_accuracy = evaluate(nor_X_test, cp_y_test)\n",
    "\n",
    "        print(\"EPOCH {} ...\".format(i+1))\n",
    "        print(\"Training Accuracy = {:.3f}\".format(training_accuracy))\n",
    "        print(\"Validation Accuracy = {:.3f}\".format(validation_accuracy))\n",
    "        print(\"Testing Accuracy = {:.3f}\".format(testing_accuracy))\n",
    "        print()\n",
    "        train_result.append(training_accuracy)\n",
    "        valid_result.append(validation_accuracy)\n",
    "        test_result.append(testing_accuracy)\n",
    "    \n",
    "    x_label = [i+1 for i in range(len(train_result))]\n",
    "    plt.plot(x_label, train_result, label='Training')\n",
    "    plt.plot(x_label, valid_result, label='Validation')\n",
    "    plt.plot(x_label, test_result, label='Testing')\n",
    "    plt.legend()\n",
    "    plt.ylabel('Accuracy')\n",
    "    plt.xlabel('Epoch')\n",
    "    plt.title('Accuracy of All Dataset')\n",
    "    plt.savefig('fig_photo/accuracy_all_dataset.png')\n",
    "    plt.show()    \n",
    "    \n",
    "    saver.save(sess, './lenet')\n",
    "    print(\"Model saved\")"
   ]
  },
  {
   "cell_type": "code",
   "execution_count": null,
   "metadata": {
    "collapsed": true
   },
   "outputs": [],
   "source": [
    "# Input: confusion matrix\n",
    "# Output: precision, recall\n",
    "def get_precision_recall(cm):\n",
    "    true_pos = np.zeros((43), dtype=np.int)\n",
    "    false_neg = np.zeros((43), dtype=np.int)\n",
    "    false_pos = np.zeros((43), dtype=np.int)\n",
    "    \n",
    "    for i in range(cm.shape[0]):\n",
    "        true_pos[i] = cm[i, i]\n",
    "        false_neg[i] = cm[i, :].sum() - cm[i, i]\n",
    "        false_pos[i] = cm[:, i].sum() - cm[i, i]\n",
    "    \n",
    "    precisioin = true_pos/(true_pos+false_pos)\n",
    "    recall = true_pos/(true_pos+false_neg)\n",
    "    return precisioin, recall\n",
    "\n",
    "def plot_preci_recall_f1(precision, recall, file_name):\n",
    "    n = [i for i in range(43)]\n",
    "    fig1, ax1 = plt.subplots()\n",
    "    ax1.scatter(precision, recall)\n",
    "    for i, txt in enumerate(n):\n",
    "        ax1.annotate(txt, (precision[i], recall[i]))\n",
    "    plt.xlabel('Precision')\n",
    "    plt.ylabel('Recall')\n",
    "    plt.title(file_name + '\\'s Precision and Recall')\n",
    "    fig1.savefig('fig_photo/' + file_name + '_prec_recall.png')\n",
    "\n",
    "    f1 = 2*precision*recall / (precision+recall)\n",
    "    fig2, ax2 = plt.subplots()\n",
    "    ax2.plot(n, f1)\n",
    "    plt.xlabel('Label')\n",
    "    plt.ylabel('F1 score')\n",
    "    plt.title(file_name + '\\'s F1 score')\n",
    "    fig2.savefig('fig_photo/' + file_name + '_f1_score.png')\n"
   ]
  },
  {
   "cell_type": "code",
   "execution_count": null,
   "metadata": {
    "collapsed": true
   },
   "outputs": [],
   "source": [
    "# Plot Precision and Recall of Validation dataset\n",
    "with tf.Session() as sess:\n",
    "    #new_saver = tf.train.import_meta_graph('lenet.meta')\n",
    "    print(tf.train.latest_checkpoint('.'))\n",
    "    saver.restore(sess, tf.train.latest_checkpoint('.'))\n",
    "\n",
    "    valid_accuracy = evaluate(nor_X_valid, cp_y_valid)\n",
    "    print(\"Valid Accuracy = {:.3f}\".format(valid_accuracy))\n",
    "    \n",
    "    softmax = tf.nn.softmax(logits)\n",
    "    pred = tf.nn.top_k(softmax, 1)\n",
    "    result = sess.run(pred, feed_dict={x: nor_X_valid})\n",
    "    predictions  = result.values\n",
    "    predictionIndicies  = result.indices\n",
    "\n",
    "    valid_cm = tf.contrib.metrics.confusion_matrix(cp_y_valid, predictionIndicies, num_classes=43).eval()\n",
    "\n",
    "#print(valid_cm.shape)\n",
    "valid_precision, valid_recall = get_precision_recall(valid_cm)\n",
    "#print(valid_precision, valid_recall)\n",
    "\n",
    "plot_preci_recall_f1(valid_precision, valid_recall, 'Valid')"
   ]
  },
  {
   "cell_type": "code",
   "execution_count": null,
   "metadata": {
    "collapsed": true
   },
   "outputs": [],
   "source": [
    "# Plot \n",
    "x_label = [1, 2, 3, 4, 5, 6, 7, 8, 9, 10, 11, 12, 13, 14, 15]\n",
    "gray_ls = [0.710, 0.818, 0.834, 0.855, 0.860, 0.873, 0.868, 0.877, 0.885, 0.876, 0.887, 0.869, 0.889, 0.899, 0.893]\n",
    "color_ls = [0.641, 0.783, 0.822, 0.853, 0.866, 0.881, 0.882, 0.898, 0.874, 0.890, 0.888, 0.888, 0.895, 0.910, 0.885]\n",
    "plt.plot(x_label, gray_ls, label='Grayscale')\n",
    "plt.plot(x_label, color_ls, label='Color')\n",
    "plt.legend()\n",
    "plt.xlabel('EPOCHS')\n",
    "plt.ylabel('Validation Dataset Accuracy')\n",
    "plt.title('Comparisson between grayscale and color images')\n",
    "plt.savefig('fig_photo/cmp_color_gray.png')\n",
    "plt.show()\n",
    "\n",
    "x_label = [1, 2, 3, 4, 5, 6, 7, 8, 9, 10, 11, 12, 13, 14, 15]\n",
    "zero2one_ls = [0.668, 0.795, 0.851, 0.852, 0.875, 0.884, 0.899, 0.896, 0.899, 0.905, 0.894, 0.898, 0.898, 0.900, 0.897]\n",
    "minusone2one_ls = [0.710, 0.797, 0.854, 0.870, 0.864, 0.878, 0.873, 0.884, 0.883, 0.882, 0.888, 0.885, 0.897, 0.885, 0.889]\n",
    "mean_std_ls = [0.763, 0.833, 0.859, 0.870, 0.880, 0.888, 0.890, 0.874, 0.883, 0.885, 0.894, 0.907, 0.895, 0.895, 0.904]\n",
    "plt.plot(x_label, zero2one_ls, label='0 to 1')\n",
    "plt.plot(x_label, minusone2one_ls, label='-1 to 1')\n",
    "plt.plot(x_label, mean_std_ls, label='standardize')\n",
    "plt.legend()\n",
    "plt.xlabel('EPOCHS')\n",
    "plt.ylabel('Validation Dataset Accuracy')\n",
    "plt.title('Comparisson between three normalization dataset')\n",
    "plt.savefig('fig_photo/cmp_normalize.png')\n",
    "plt.show()"
   ]
  },
  {
   "cell_type": "code",
   "execution_count": null,
   "metadata": {
    "collapsed": true
   },
   "outputs": [],
   "source": [
    "# Plot Precision and Recall of Testing dataset\n",
    "with tf.Session() as sess:\n",
    "    saver.restore(sess, tf.train.latest_checkpoint('.'))\n",
    "\n",
    "    test_accuracy = evaluate(nor_X_test, cp_y_test)\n",
    "    print(\"Test Accuracy = {:.3f}\".format(test_accuracy))\n",
    "\n",
    "    softmax = tf.nn.softmax(logits)\n",
    "    pred = tf.nn.top_k(softmax, 1)\n",
    "    result = sess.run(pred, feed_dict={x: nor_X_test})\n",
    "    predictions  = result.values\n",
    "    predictionIndicies  = result.indices\n",
    "\n",
    "    test_cm = tf.contrib.metrics.confusion_matrix(cp_y_test, predictionIndicies, num_classes=43).eval()\n",
    "\n",
    "print(test_cm.shape)\n",
    "test_precision, test_recall = get_precision_recall(test_cm)\n",
    "\n",
    "plot_preci_recall_f1(test_precision, test_recall, 'Test')"
   ]
  },
  {
   "cell_type": "code",
   "execution_count": null,
   "metadata": {
    "collapsed": true
   },
   "outputs": [],
   "source": [
    "# Training Accuracy\n",
    "with tf.Session() as sess:\n",
    "    saver.restore(sess, tf.train.latest_checkpoint('.'))\n",
    "\n",
    "    train_accuracy = evaluate(X_train_gray, y_train)\n",
    "    print(\"Test Accuracy = {:.3f}\".format(train_accuracy))   \n",
    "\n",
    "# Validation Accuracy\n",
    "with tf.Session() as sess:\n",
    "    saver.restore(sess, tf.train.latest_checkpoint('.'))\n",
    "\n",
    "    valid_accuracy = evaluate(nor_X_valid, cp_y_valid)\n",
    "    print(\"Test Accuracy = {:.3f}\".format(valid_accuracy))\n",
    "\n",
    "# Testing Accuracy\n",
    "with tf.Session() as sess:\n",
    "    saver.restore(sess, tf.train.latest_checkpoint('.'))\n",
    "\n",
    "    test_accuracy = evaluate(nor_X_test, cp_y_test)\n",
    "    print(\"Test Accuracy = {:.3f}\".format(test_accuracy))"
   ]
  },
  {
   "cell_type": "markdown",
   "metadata": {},
   "source": [
    "---\n",
    "\n",
    "## Step 3: Test a Model on New Images\n",
    "\n",
    "To give yourself more insight into how your model is working, download at least five pictures of German traffic signs from the web and use your model to predict the traffic sign type.\n",
    "\n",
    "You may find `signnames.csv` useful as it contains mappings from the class id (integer) to the actual sign name."
   ]
  },
  {
   "cell_type": "markdown",
   "metadata": {},
   "source": [
    "### Load and Output the Images"
   ]
  },
  {
   "cell_type": "code",
   "execution_count": null,
   "metadata": {
    "collapsed": true
   },
   "outputs": [],
   "source": [
    "img = cv2.imread('fig_photo/test_from_web_00.png',cv2.IMREAD_COLOR)[None, :, :]\n",
    "img = np.concatenate((img, cv2.imread('fig_photo/test_from_web_01.png',cv2.IMREAD_COLOR)[None, :, :]))\n",
    "img = np.concatenate((img, cv2.imread('fig_photo/test_from_web_02.png',cv2.IMREAD_COLOR)[None, :, :]))\n",
    "img = np.concatenate((img, cv2.imread('fig_photo/test_from_web_03.png',cv2.IMREAD_COLOR)[None, :, :]))\n",
    "img = np.concatenate((img, cv2.imread('fig_photo/test_from_web_04.png',cv2.IMREAD_COLOR)[None, :, :]))\n",
    "ans = np.array([4, 1, 3, 14, 18])\n",
    "\n",
    "img_gray = []\n",
    "for i in range(img.shape[0]):\n",
    "    img_gray.append(cv2.cvtColor(img[i], cv2.COLOR_BGR2GRAY)[:,:,None])\n",
    "img_gray = np.array(img_gray)\n",
    "\n",
    "plt.figure(figsize=(256/my_dpi, 256/my_dpi), dpi=my_dpi) # I want to show my image of size 256x256.\n",
    "plt.subplot(121)\n",
    "plt.imshow(cv2.cvtColor(img[0], cv2.COLOR_BGR2RGB))\n",
    "plt.subplot(122)\n",
    "plt.axis(\"off\")\n",
    "plt.imshow(img_gray[0][:,:,0], cmap='gray')\n",
    "\n",
    "plt.figure(figsize=(256/my_dpi, 256/my_dpi), dpi=my_dpi) # I want to show my image of size 256x256.\n",
    "plt.subplot(121)\n",
    "plt.imshow(cv2.cvtColor(img[1], cv2.COLOR_BGR2RGB))\n",
    "plt.subplot(122)\n",
    "plt.axis(\"off\")\n",
    "plt.imshow(img_gray[1][:,:,0], cmap='gray')\n",
    "\n",
    "plt.figure(figsize=(256/my_dpi, 256/my_dpi), dpi=my_dpi) # I want to show my image of size 256x256.\n",
    "plt.subplot(121)\n",
    "plt.imshow(cv2.cvtColor(img[2], cv2.COLOR_BGR2RGB))\n",
    "plt.subplot(122)\n",
    "plt.axis(\"off\")\n",
    "plt.imshow(img_gray[2][:,:,0], cmap='gray')\n",
    "\n",
    "plt.figure(figsize=(256/my_dpi, 256/my_dpi), dpi=my_dpi) # I want to show my image of size 256x256.\n",
    "plt.subplot(121)\n",
    "plt.imshow(cv2.cvtColor(img[3], cv2.COLOR_BGR2RGB))\n",
    "plt.subplot(122)\n",
    "plt.axis(\"off\")\n",
    "plt.imshow(img_gray[3][:,:,0], cmap='gray')\n",
    "\n",
    "plt.figure(figsize=(256/my_dpi, 256/my_dpi), dpi=my_dpi) # I want to show my image of size 256x256.\n",
    "plt.subplot(121)\n",
    "plt.imshow(cv2.cvtColor(img[4], cv2.COLOR_BGR2RGB))\n",
    "plt.subplot(122)\n",
    "plt.axis(\"off\")\n",
    "plt.imshow(img_gray[4][:,:,0], cmap='gray')\n",
    "\n",
    "plt.show()"
   ]
  },
  {
   "cell_type": "markdown",
   "metadata": {},
   "source": [
    "### Predict the Sign Type for Each Image and Analyze Performance"
   ]
  },
  {
   "cell_type": "code",
   "execution_count": null,
   "metadata": {
    "collapsed": true
   },
   "outputs": [],
   "source": [
    "### Run the predictions here and use the model to output the prediction for each image.\n",
    "### Make sure to pre-process the images with the same pre-processing pipeline used earlier.\n",
    "### Feel free to use as many code cells as needed.\n",
    "from sklearn.metrics import accuracy_score\n",
    "\n",
    "signs = {}\n",
    "with open('signnames.csv', newline='') as csvfile:\n",
    "    for row in csv.reader(csvfile, delimiter=','):\n",
    "        signs[row[0]] = row[1]\n",
    "#print(signs) {'17': 'No entry', \n",
    "#              ... ,\n",
    "#              '6': 'End of speed limit (80km/h)'}\n",
    "\n",
    "cp_img_gray = np.copy(img_gray)\n",
    "cp_img_gray = a * cp_img_gray + b\n",
    "cp_img_gray = cp_img_gray.astype('float32')\n",
    "\n",
    "with tf.Session() as sess:\n",
    "    saver.restore(sess, tf.train.latest_checkpoint('.'))\n",
    "    \n",
    "    result = sess.run(logits, feed_dict={x: cp_img_gray})\n",
    "\n",
    "labels = []\n",
    "predictions = []\n",
    "for i in range(ans.shape[0]):\n",
    "    labels.append(ans[i])\n",
    "    predictions.append(result[i].argmax())\n",
    "    print(\"For sign {}, Prediction is {}\".format(signs[str(ans[i])], signs[str(result[i].argmax())]))\n",
    "\n",
    "print(\"Accuracy of new images from web is {:.2f}\".format(accuracy_score(labels, predictions)))"
   ]
  },
  {
   "cell_type": "markdown",
   "metadata": {},
   "source": [
    "### Output Top 5 Softmax Probabilities For Each Image Found on the Web"
   ]
  },
  {
   "cell_type": "markdown",
   "metadata": {},
   "source": [
    "For each of the new images, print out the model's softmax probabilities to show the **certainty** of the model's predictions (limit the output to the top 5 probabilities for each image). [`tf.nn.top_k`](https://www.tensorflow.org/versions/r0.12/api_docs/python/nn.html#top_k) could prove helpful here. \n",
    "\n",
    "The example below demonstrates how tf.nn.top_k can be used to find the top k predictions for each image.\n",
    "\n",
    "`tf.nn.top_k` will return the values and indices (class ids) of the top k predictions. So if k=3, for each sign, it'll return the 3 largest probabilities (out of a possible 43) and the correspoding class ids.\n",
    "\n",
    "Take this numpy array as an example. The values in the array represent predictions. The array contains softmax probabilities for five candidate images with six possible classes. `tk.nn.top_k` is used to choose the three classes with the highest probability:\n",
    "\n",
    "```\n",
    "# (5, 6) array\n",
    "a = np.array([[ 0.24879643,  0.07032244,  0.12641572,  0.34763842,  0.07893497,\n",
    "         0.12789202],\n",
    "       [ 0.28086119,  0.27569815,  0.08594638,  0.0178669 ,  0.18063401,\n",
    "         0.15899337],\n",
    "       [ 0.26076848,  0.23664738,  0.08020603,  0.07001922,  0.1134371 ,\n",
    "         0.23892179],\n",
    "       [ 0.11943333,  0.29198961,  0.02605103,  0.26234032,  0.1351348 ,\n",
    "         0.16505091],\n",
    "       [ 0.09561176,  0.34396535,  0.0643941 ,  0.16240774,  0.24206137,\n",
    "         0.09155967]])\n",
    "```\n",
    "\n",
    "Running it through `sess.run(tf.nn.top_k(tf.constant(a), k=3))` produces:\n",
    "\n",
    "```\n",
    "TopKV2(values=array([[ 0.34763842,  0.24879643,  0.12789202],\n",
    "       [ 0.28086119,  0.27569815,  0.18063401],\n",
    "       [ 0.26076848,  0.23892179,  0.23664738],\n",
    "       [ 0.29198961,  0.26234032,  0.16505091],\n",
    "       [ 0.34396535,  0.24206137,  0.16240774]]), indices=array([[3, 0, 5],\n",
    "       [0, 1, 4],\n",
    "       [0, 5, 1],\n",
    "       [1, 3, 5],\n",
    "       [1, 4, 3]], dtype=int32))\n",
    "```\n",
    "\n",
    "Looking just at the first row we get `[ 0.34763842,  0.24879643,  0.12789202]`, you can confirm these are the 3 largest probabilities in `a`. You'll also notice `[3, 0, 5]` are the corresponding indices."
   ]
  },
  {
   "cell_type": "code",
   "execution_count": null,
   "metadata": {
    "collapsed": true
   },
   "outputs": [],
   "source": [
    "softmax = tf.nn.softmax(logits)\n",
    "pred = tf.nn.top_k(softmax, 5)\n",
    "\n",
    "with tf.Session() as sess:\n",
    "    saver.restore(sess, tf.train.latest_checkpoint('.'))\n",
    "    test_accuracy = evaluate(cp_img_gray, ans)\n",
    "    print(\"Test Accuracy = {:.3f}\".format(test_accuracy))\n",
    "    result = sess.run(pred, feed_dict={x: cp_img_gray})\n",
    "    predictions  = result.values\n",
    "    predictionIndicies  = result.indices\n",
    "    \n",
    "#print(predictions, predictionIndicies)\n",
    "\n",
    "label_name = []\n",
    "for i in range(predictionIndicies.shape[0]):\n",
    "    tmp = []\n",
    "    for j in range(predictionIndicies.shape[1]):\n",
    "        #print(predictionIndicies[i][j])\n",
    "        #print(signs[str(predictionIndicies[i][j])])\n",
    "        tmp.append(signs[str(predictionIndicies[i][j])])\n",
    "    label_name.append(tmp)\n",
    "#print(label_name)\n",
    "\n",
    "pos = list(reversed(np.arange(5)))\n",
    "fig = {}\n",
    "ax = {}\n",
    "for i in range(5):\n",
    "    fig[i], ax[i] = plt.subplots()\n",
    "    plt.xlabel('Probability')\n",
    "    plt.barh(pos, predictions[i], ecolor='g', align='center')\n",
    "    plt.yticks(pos, label_name[i])\n",
    "    plt.title('For Image ' + signs[str(ans[i])])\n",
    "    for j, v in enumerate(list(reversed(predictions[i]))):\n",
    "        ax[i].text(0.05, j-0.1, v, color='black')\n",
    "    fig[i].savefig('fig_photo/bar_test_from_web_' + str(i))\n"
   ]
  },
  {
   "cell_type": "markdown",
   "metadata": {},
   "source": [
    "### Project Writeup\n",
    "\n",
    "Once you have completed the code implementation, document your results in a project writeup using this [template](https://github.com/udacity/CarND-Traffic-Sign-Classifier-Project/blob/master/writeup_template.md) as a guide. The writeup can be in a markdown or pdf file. "
   ]
  },
  {
   "cell_type": "markdown",
   "metadata": {},
   "source": [
    "> **Note**: Once you have completed all of the code implementations and successfully answered each question above, you may finalize your work by exporting the iPython Notebook as an HTML document. You can do this by using the menu above and navigating to  \\n\",\n",
    "    \"**File -> Download as -> HTML (.html)**. Include the finished document along with this notebook as your submission."
   ]
  },
  {
   "cell_type": "markdown",
   "metadata": {},
   "source": [
    "---\n",
    "\n",
    "## Step 4 (Optional): Visualize the Neural Network's State with Test Images\n",
    "\n",
    " This Section is not required to complete but acts as an additional excersise for understaning the output of a neural network's weights. While neural networks can be a great learning device they are often referred to as a black box. We can understand what the weights of a neural network look like better by plotting their feature maps. After successfully training your neural network you can see what it's feature maps look like by plotting the output of the network's weight layers in response to a test stimuli image. From these plotted feature maps, it's possible to see what characteristics of an image the network finds interesting. For a sign, maybe the inner network feature maps react with high activation to the sign's boundary outline or to the contrast in the sign's painted symbol.\n",
    "\n",
    " Provided for you below is the function code that allows you to get the visualization output of any tensorflow weight layer you want. The inputs to the function should be a stimuli image, one used during training or a new one you provided, and then the tensorflow variable name that represents the layer's state during the training process, for instance if you wanted to see what the [LeNet lab's](https://classroom.udacity.com/nanodegrees/nd013/parts/fbf77062-5703-404e-b60c-95b78b2f3f9e/modules/6df7ae49-c61c-4bb2-a23e-6527e69209ec/lessons/601ae704-1035-4287-8b11-e2c2716217ad/concepts/d4aca031-508f-4e0b-b493-e7b706120f81) feature maps looked like for it's second convolutional layer you could enter conv2 as the tf_activation variable.\n",
    "\n",
    "For an example of what feature map outputs look like, check out NVIDIA's results in their paper [End-to-End Deep Learning for Self-Driving Cars](https://devblogs.nvidia.com/parallelforall/deep-learning-self-driving-cars/) in the section Visualization of internal CNN State. NVIDIA was able to show that their network's inner weights had high activations to road boundary lines by comparing feature maps from an image with a clear path to one without. Try experimenting with a similar test to show that your trained network's weights are looking for interesting features, whether it's looking at differences in feature maps from images with or without a sign, or even what feature maps look like in a trained network vs a completely untrained one on the same sign image.\n",
    "\n",
    "<figure>\n",
    " <img src=\"visualize_cnn.png\" width=\"380\" alt=\"Combined Image\" />\n",
    " <figcaption>\n",
    " <p></p> \n",
    " <p style=\"text-align: center;\"> Your output should look something like this (above)</p> \n",
    " </figcaption>\n",
    "</figure>\n",
    " <p></p> \n"
   ]
  },
  {
   "cell_type": "code",
   "execution_count": null,
   "metadata": {
    "collapsed": true
   },
   "outputs": [],
   "source": [
    "### Visualize your network's feature maps here.\n",
    "### Feel free to use as many code cells as needed.\n",
    "\n",
    "# image_input: the test image being fed into the network to produce the feature maps\n",
    "# tf_activation: should be a tf variable name used during your training procedure that represents the calculated state of a specific weight layer\n",
    "# activation_min/max: can be used to view the activation contrast in more detail, by default matplot sets min and max to the actual min and max values of the output\n",
    "# plt_num: used to plot out multiple different weight feature map sets on the same block, just extend the plt number for each new feature map entry\n",
    "\n",
    "def outputFeatureMap(image_input, tf_activation, activation_min=-1, activation_max=-1 ,plt_num=1, file_name=''):\n",
    "    # Here make sure to preprocess your image_input in a way your network expects\n",
    "    # with size, normalization, ect if needed\n",
    "    # image_input =\n",
    "    # Note: x should be the same name as your network's tensorflow data placeholder variable\n",
    "    # If you get an error tf_activation is not defined it may be having trouble accessing the variable from inside a function\n",
    "    activation = tf_activation.eval(session=sess,feed_dict={x : image_input})\n",
    "    featuremaps = activation.shape[3]\n",
    "    plt.figure(plt_num, figsize=(15,15))\n",
    "    for featuremap in range(featuremaps):\n",
    "        plt.subplot(12,8, featuremap+1) # sets the number of feature maps to show on each row and column\n",
    "        plt.title('FeatureMap ' + str(featuremap)) # displays the feature map number\n",
    "        if activation_min != -1 & activation_max != -1:\n",
    "            plt.imshow(activation[0,:,:, featuremap], interpolation=\"nearest\", vmin =activation_min, vmax=activation_max, cmap=\"gray\")\n",
    "        elif activation_max != -1:\n",
    "            plt.imshow(activation[0,:,:, featuremap], interpolation=\"nearest\", vmax=activation_max, cmap=\"gray\")\n",
    "        elif activation_min !=-1:\n",
    "            plt.imshow(activation[0,:,:, featuremap], interpolation=\"nearest\", vmin=activation_min, cmap=\"gray\")\n",
    "        else:\n",
    "            plt.imshow(activation[0,:,:, featuremap], interpolation=\"nearest\", cmap=\"gray\")\n",
    "    \n",
    "    plt.savefig('fig_photo/visualize_feat_' + str(file_name) + '.png', bbox_inches='tight')\n"
   ]
  },
  {
   "cell_type": "code",
   "execution_count": null,
   "metadata": {
    "collapsed": true
   },
   "outputs": [],
   "source": [
    "\n",
    "with tf.Session() as sess:\n",
    "    saver.restore(sess, tf.train.latest_checkpoint('.'))\n",
    "    myconv1 = tf.get_default_graph().get_tensor_by_name(\"conv1:0\")\n",
    "    print(myconv1)\n",
    "    outputFeatureMap(cp_img_gray[0][None,:,:,:], myconv1, plt_num=1, file_name='conv1')\n",
    "    \n",
    "    myconv2 = tf.get_default_graph().get_tensor_by_name(\"conv2:0\")\n",
    "    print(myconv2)\n",
    "    outputFeatureMap(cp_img_gray[0][None,:,:,:], myconv2, plt_num=2, file_name='conv2')\n",
    "    \n",
    "    myconv3 = tf.get_default_graph().get_tensor_by_name(\"conv3:0\")\n",
    "    print(myconv3)\n",
    "    outputFeatureMap(cp_img_gray[0][None,:,:,:], myconv3, plt_num=3, file_name='conv3')\n"
   ]
  },
  {
   "cell_type": "code",
   "execution_count": null,
   "metadata": {
    "collapsed": true
   },
   "outputs": [],
   "source": []
  }
 ],
 "metadata": {
  "anaconda-cloud": {},
  "kernelspec": {
   "display_name": "Python 3",
   "language": "python",
   "name": "python3"
  },
  "language_info": {
   "codemirror_mode": {
    "name": "ipython",
    "version": 3
   },
   "file_extension": ".py",
   "mimetype": "text/x-python",
   "name": "python",
   "nbconvert_exporter": "python",
   "pygments_lexer": "ipython3",
   "version": "3.5.2"
  },
  "widgets": {
   "state": {},
   "version": "1.1.2"
  }
 },
 "nbformat": 4,
 "nbformat_minor": 1
}
