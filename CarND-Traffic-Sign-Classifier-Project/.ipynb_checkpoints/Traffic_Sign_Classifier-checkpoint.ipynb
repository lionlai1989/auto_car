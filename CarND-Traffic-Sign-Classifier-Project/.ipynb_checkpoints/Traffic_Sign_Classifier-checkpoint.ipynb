{
 "cells": [
  {
   "cell_type": "markdown",
   "metadata": {},
   "source": [
    "# Self-Driving Car Engineer Nanodegree\n",
    "\n",
    "## Deep Learning\n",
    "\n",
    "## Project: Build a Traffic Sign Recognition Classifier\n",
    "\n",
    "In this notebook, a template is provided for you to implement your functionality in stages, which is required to successfully complete this project. If additional code is required that cannot be included in the notebook, be sure that the Python code is successfully imported and included in your submission if necessary. \n",
    "\n",
    "> **Note**: Once you have completed all of the code implementations, you need to finalize your work by exporting the iPython Notebook as an HTML document. Before exporting the notebook to html, all of the code cells need to have been run so that reviewers can see the final implementation and output. You can then export the notebook by using the menu above and navigating to  \\n\",\n",
    "    \"**File -> Download as -> HTML (.html)**. Include the finished document along with this notebook as your submission. \n",
    "\n",
    "In addition to implementing code, there is a writeup to complete. The writeup should be completed in a separate file, which can be either a markdown file or a pdf document. There is a [write up template](https://github.com/udacity/CarND-Traffic-Sign-Classifier-Project/blob/master/writeup_template.md) that can be used to guide the writing process. Completing the code template and writeup template will cover all of the [rubric points](https://review.udacity.com/#!/rubrics/481/view) for this project.\n",
    "\n",
    "The [rubric](https://review.udacity.com/#!/rubrics/481/view) contains \"Stand Out Suggestions\" for enhancing the project beyond the minimum requirements. The stand out suggestions are optional. If you decide to pursue the \"stand out suggestions\", you can include the code in this Ipython notebook and also discuss the results in the writeup file.\n",
    "\n",
    "\n",
    ">**Note:** Code and Markdown cells can be executed using the **Shift + Enter** keyboard shortcut. In addition, Markdown cells can be edited by typically double-clicking the cell to enter edit mode."
   ]
  },
  {
   "cell_type": "markdown",
   "metadata": {},
   "source": [
    "---\n",
    "## Step 0: Load The Data"
   ]
  },
  {
   "cell_type": "code",
   "execution_count": 1,
   "metadata": {
    "collapsed": true
   },
   "outputs": [],
   "source": [
    "# Load pickled data\n",
    "import pickle\n",
    "import matplotlib.pyplot as plt\n",
    "import csv\n",
    "from pandas import DataFrame, read_csv\n",
    "import numpy as np\n",
    "import cv2\n",
    "from timeit import default_timer as timer\n",
    "from sklearn.utils import shuffle\n",
    "import tensorflow as tf\n",
    "from tensorflow.contrib.layers import flatten\n",
    "\n",
    "training_file = 'traffic-signs-data/train.p'\n",
    "validation_file = 'traffic-signs-data/valid.p'\n",
    "testing_file = 'traffic-signs-data/test.p'\n",
    "\n",
    "with open(training_file, mode='rb') as f:\n",
    "    train = pickle.load(f)\n",
    "with open(validation_file, mode='rb') as f:\n",
    "    valid = pickle.load(f)\n",
    "with open(testing_file, mode='rb') as f:\n",
    "    test = pickle.load(f)\n",
    "    \n",
    "X_train, y_train = train['features'], train['labels']\n",
    "X_valid, y_valid = valid['features'], valid['labels']\n",
    "X_test, y_test = test['features'], test['labels']\n",
    "\n",
    "assert(len(X_train) == len(y_train))\n",
    "assert(len(X_valid) == len(y_valid))\n",
    "assert(len(X_test) == len(y_test))"
   ]
  },
  {
   "cell_type": "markdown",
   "metadata": {},
   "source": [
    "---\n",
    "## Step 0.1: Augment The Data"
   ]
  },
  {
   "cell_type": "code",
   "execution_count": 2,
   "metadata": {},
   "outputs": [
    {
     "name": "stdout",
     "output_type": "stream",
     "text": [
      "(34799, 32, 32, 1)\n",
      "(34799,)\n",
      "(41939, 32, 32, 1)\n",
      "(41939,)\n",
      "(49079, 32, 32, 1)\n",
      "(49079,)\n",
      "(56219, 32, 32, 1)\n",
      "(56219,)\n"
     ]
    },
    {
     "data": {
      "image/png": "[encoded data removed]",
      "text/plain": [
       "<matplotlib.figure.Figure at 0x13d3ecc18>"
      ]
     },
     "metadata": {},
     "output_type": "display_data"
    },
    {
     "data": {
      "image/png": "[encoded data removed]",
      "text/plain": [
       "<matplotlib.figure.Figure at 0x13d550fd0>"
      ]
     },
     "metadata": {},
     "output_type": "display_data"
    }
   ],
   "source": [
    "def visualize_data(train, valid, test, filename):\n",
    "    fig = plt.figure()\n",
    "    bins = np.linspace(0, 43, 44)\n",
    "    \n",
    "    plt.xlabel('Labels')\n",
    "    plt.ylabel('Numbers')\n",
    "    plt.hist(train, bins, align='left', color='r', alpha=0.6, label='train')\n",
    "    plt.hist(test, bins, align='left', color='g', alpha=0.8, label='test')\n",
    "    plt.hist(valid, bins, align='left', color='b', alpha=0.6, label='valid')\n",
    "    plt.legend()\n",
    "    fig.savefig('fig_photo/' + filename)\n",
    "    plt.show()\n",
    "\n",
    "cp_X_train = np.copy(X_train)\n",
    "cp_y_train = np.copy(y_train)\n",
    "# ls_aug stores the labels that has fewer training dataset need to be augmented.\n",
    "ls_aug = [0, 6, 15, 16, 19, 20, 21, 22, 23, 24, 26, 27, 28, 29, 30, 32, 34, 36, 37, 39, 40, 41, 42]\n",
    "\n",
    "X_train_gray = [] # Using list is very important, DO NOT USE ARRAY.\n",
    "for i in range(cp_X_train.shape[0]):\n",
    "    gray_img = cv2.cvtColor(cp_X_train[i], cv2.COLOR_BGR2GRAY)[:, :, None]\n",
    "    X_train_gray.append(gray_img)\n",
    "X_train_gray = np.array(X_train_gray)\n",
    "print(X_train_gray.shape)\n",
    "print(cp_y_train.shape)\n",
    "\n",
    "fig4 = plt.figure()\n",
    "#fig4.suptitle(\"Title for whole figure\", fontsize=16)\n",
    "\n",
    "ax1 = plt.subplot(221)\n",
    "ax1.set_title('Original', fontsize=16)\n",
    "ax1.imshow(X_train_gray[100][:,:,0], cmap='gray', vmin=0, vmax=255)\n",
    "plt.axis('off')\n",
    "\n",
    "# augmented data with rotated images\n",
    "rot_X_train = []\n",
    "rot_y_train = []\n",
    "wth = X_train_gray.shape[1]\n",
    "hgt = X_train_gray.shape[2]\n",
    "M = cv2.getRotationMatrix2D((wth/2,hgt/2), 15, 1)\n",
    "for i in range(X_train_gray.shape[0]):\n",
    "    if cp_y_train[i] in ls_aug:\n",
    "        #print(cp_y_train[i])\n",
    "        dst = cv2.warpAffine(X_train_gray[i], M, (wth,hgt))[:, :, None]\n",
    "        dst[dst == 0] = 64 # 96 32\n",
    "        rot_X_train.append(dst)\n",
    "        rot_y_train.append(cp_y_train[i])\n",
    "rot_X_train = np.array(rot_X_train)\n",
    "rot_y_train = np.array(rot_y_train)\n",
    "aug_X_train = np.concatenate((X_train_gray, rot_X_train), axis=0)\n",
    "aug_y_train = np.concatenate((cp_y_train, rot_y_train), axis=0)\n",
    "print(aug_X_train.shape)\n",
    "print(aug_y_train.shape)\n",
    "\n",
    "ax2 = plt.subplot(222)\n",
    "ax2.set_title('Rotated', fontsize=16)\n",
    "ax2.imshow(rot_X_train[100][:,:,0], cmap='gray', vmin=0, vmax=255)\n",
    "plt.axis('off')\n",
    "\n",
    "# augmented data with sheared images\n",
    "shr_X_train = []\n",
    "shr_y_train = []\n",
    "pts1 = np.float32([[12,12],[20,12],[12,20]])\n",
    "pts2 = np.float32([[11,11],[18,12],[10,20]])\n",
    "M = cv2.getAffineTransform(pts1,pts2)\n",
    "for i in range(X_train_gray.shape[0]):\n",
    "    if cp_y_train[i] in ls_aug:\n",
    "        dst = cv2.warpAffine(X_train_gray[i], M, (wth,hgt))[:, :, None]\n",
    "        dst[dst == 0] = 64 # 96 32\n",
    "        shr_X_train.append(dst)\n",
    "        shr_y_train.append(cp_y_train[i])\n",
    "shr_X_train = np.array(shr_X_train)\n",
    "shr_y_train = np.array(shr_y_train)\n",
    "aug_X_train = np.concatenate((aug_X_train, shr_X_train), axis=0)\n",
    "aug_y_train = np.concatenate((aug_y_train, shr_y_train), axis=0)\n",
    "print(aug_X_train.shape)\n",
    "print(aug_y_train.shape)\n",
    "\n",
    "ax3 = plt.subplot(223)\n",
    "ax3.set_title('Sheared', fontsize=16)\n",
    "ax3.imshow(shr_X_train[100][:,:,0], cmap='gray', vmin=0, vmax=255)\n",
    "plt.axis('off')\n",
    "\n",
    "# augmented data with adding uniform noise to clean images\n",
    "noise = np.empty((32,32), np.uint8)\n",
    "ns_X_train = []\n",
    "ns_y_train = []\n",
    "for i in range(X_train_gray.shape[0]):\n",
    "    if cp_y_train[i] in ls_aug:\n",
    "        X_train_gray[i][X_train_gray[i]>249] = 249 # 249 + 6 <= 255(uint8)\n",
    "        X_train_gray[i][X_train_gray[i]<6] = 6 # 6 - 6 >= 0(uint8)\n",
    "        ns_X_train.append(X_train_gray[i] + cv2.randu(noise,(-6),(6))[:, :, None])\n",
    "        ns_y_train.append(cp_y_train[i])\n",
    "ns_X_train = np.array(ns_X_train)\n",
    "ns_y_train = np.array(ns_y_train)\n",
    "aug_X_train = np.concatenate((aug_X_train, ns_X_train), axis=0)\n",
    "aug_y_train = np.concatenate((aug_y_train, ns_y_train), axis=0)\n",
    "print(aug_X_train.shape)\n",
    "print(aug_y_train.shape)\n",
    "\n",
    "ax4 = plt.subplot(224)\n",
    "ax4.set_title('Add Uniform Noise', fontsize=16)\n",
    "ax4.imshow(ns_X_train[100][:,:,0], cmap='gray', vmin=0, vmax=255)\n",
    "plt.axis('off')\n",
    "\n",
    "fig4.savefig('fig_photo/' + 'augmented_image')\n",
    "plt.show()\n",
    "\n",
    "visualize_data(aug_y_train, y_valid, y_test, 'label_distribution_aug.png')\n"
   ]
  },
  {
   "cell_type": "markdown",
   "metadata": {},
   "source": [
    "---\n",
    "\n",
    "## Step 1: Dataset Summary & Exploration\n",
    "\n",
    "The pickled data is a dictionary with 4 key/value pairs:\n",
    "\n",
    "- `'features'` is a 4D array containing raw pixel data of the traffic sign images, (num examples, width, height, channels).\n",
    "- `'labels'` is a 1D array containing the label/class id of the traffic sign. The file `signnames.csv` contains id -> name mappings for each id.\n",
    "- `'sizes'` is a list containing tuples, (width, height) representing the original width and height the image.\n",
    "- `'coords'` is a list containing tuples, (x1, y1, x2, y2) representing coordinates of a bounding box around the sign in the image. **THESE COORDINATES ASSUME THE ORIGINAL IMAGE. THE PICKLED DATA CONTAINS RESIZED VERSIONS (32 by 32) OF THESE IMAGES**\n",
    "\n",
    "Complete the basic data summary below. Use python, numpy and/or pandas methods to calculate the data summary rather than hard coding the results. For example, the [pandas shape method](http://pandas.pydata.org/pandas-docs/stable/generated/pandas.DataFrame.shape.html) might be useful for calculating some of the summary results. "
   ]
  },
  {
   "cell_type": "markdown",
   "metadata": {},
   "source": [
    "### Provide a Basic Summary of the Data Set Using Python, Numpy and/or Pandas"
   ]
  },
  {
   "cell_type": "code",
   "execution_count": 3,
   "metadata": {},
   "outputs": [
    {
     "name": "stdout",
     "output_type": "stream",
     "text": [
      "Number of training examples = 34799\n",
      "Number of validation examples = 4410\n",
      "Number of testing examples = 12630\n",
      "Image data shape = (32, 32, 3)\n",
      "Number of classes = 43\n"
     ]
    }
   ],
   "source": [
    "n_train = X_train.shape[0]\n",
    "n_validation = X_valid.shape[0]\n",
    "n_test = X_test.shape[0]\n",
    "image_shape = X_train[0].shape\n",
    "n_classes = len(set(y_train))\n",
    "\n",
    "print(\"Number of training examples =\", n_train)\n",
    "print(\"Number of validation examples =\", n_validation)\n",
    "print(\"Number of testing examples =\", n_test)\n",
    "print(\"Image data shape =\", image_shape)\n",
    "print(\"Number of classes =\", n_classes)"
   ]
  },
  {
   "cell_type": "markdown",
   "metadata": {},
   "source": [
    "### Include an exploratory visualization of the dataset"
   ]
  },
  {
   "cell_type": "markdown",
   "metadata": {},
   "source": [
    "Visualize the German Traffic Signs Dataset using the pickled file(s). This is open ended, suggestions include: plotting traffic sign images, plotting the count of each sign, etc. \n",
    "\n",
    "The [Matplotlib](http://matplotlib.org/) [examples](http://matplotlib.org/examples/index.html) and [gallery](http://matplotlib.org/gallery.html) pages are a great resource for doing visualizations in Python.\n"
   ]
  },
  {
   "cell_type": "code",
   "execution_count": 4,
   "metadata": {},
   "outputs": [
    {
     "name": "stdout",
     "output_type": "stream",
     "text": [
      "Sign No.41 means End of no passing\n"
     ]
    },
    {
     "data": {
      "image/png": "[encoded data removed]",
      "text/plain": [
       "<matplotlib.figure.Figure at 0x129f0a4a8>"
      ]
     },
     "metadata": {},
     "output_type": "display_data"
    },
    {
     "data": {
      "image/png": "[encoded data removed]",
      "text/plain": [
       "<matplotlib.figure.Figure at 0x13d7aa9e8>"
      ]
     },
     "metadata": {},
     "output_type": "display_data"
    },
    {
     "data": {
      "text/plain": [
       "1"
      ]
     },
     "execution_count": 4,
     "metadata": {},
     "output_type": "execute_result"
    }
   ],
   "source": [
    "def visualize_data(train, valid, test):\n",
    "    fig = plt.figure()\n",
    "    bins = np.linspace(0, 43, 44)\n",
    "    \n",
    "    plt.xlabel('Labels')\n",
    "    plt.ylabel('Numbers')\n",
    "    plt.hist(train, bins, align='left', color='r', alpha=0.6, label='train')\n",
    "    plt.hist(test, bins, align='left', color='g', alpha=0.8, label='test')\n",
    "    plt.hist(valid, bins, align='left', color='b', alpha=0.6, label='valid')\n",
    "    plt.legend()\n",
    "    fig.savefig('fig_photo/label_distribution.png')\n",
    "    plt.show()\n",
    "    return 1\n",
    "\n",
    "signs = {}\n",
    "with open('signnames.csv', newline='') as csvfile:\n",
    "    for row in csv.reader(csvfile, delimiter=','):\n",
    "        signs[row[0]] = row[1]\n",
    "\n",
    "# Visualizations will be shown in the notebook.\n",
    "%matplotlib inline\n",
    "\n",
    "num = 0\n",
    "my_dpi=192 # Setting the dpi of my monitor.\n",
    "\n",
    "plt.figure(figsize=(256/my_dpi, 256/my_dpi), dpi=my_dpi) # I want to show my image of size 256x256.\n",
    "plt.imshow(X_train[num])\n",
    "plt.savefig('fig_photo/x_train_0.png', dpi=my_dpi)\n",
    "print(\"Sign No.%d means %s\" % (y_train[num], signs[str(y_train[num])]))\n",
    "tmp = cv2.cvtColor(X_train[num], cv2.COLOR_BGR2GRAY)\n",
    "plt.imshow(tmp, cmap='gray')\n",
    "plt.savefig('fig_photo/x_train_0_gray.png', dpi=my_dpi)\n",
    "\n",
    "visualize_data(y_train, y_valid, y_test)"
   ]
  },
  {
   "cell_type": "code",
   "execution_count": 5,
   "metadata": {},
   "outputs": [
    {
     "data": {
      "image/png": "[encoded data removed]",
      "text/plain": [
       "<matplotlib.figure.Figure at 0x13d413fd0>"
      ]
     },
     "metadata": {},
     "output_type": "display_data"
    }
   ],
   "source": [
    "num=10000\n",
    "plt.figure(figsize=(512/my_dpi, 512/my_dpi), dpi=my_dpi) # I want to show my image of size 512x512.\n",
    "plt.subplot(121)\n",
    "plt.imshow(X_train[num])\n",
    "tmp = cv2.cvtColor(X_train[num], cv2.COLOR_BGR2GRAY)\n",
    "plt.subplot(122)\n",
    "plt.imshow(tmp, cmap='gray')\n",
    "plt.savefig('fig_photo/color_gray.png', dpi=my_dpi, bbox_inches='tight')"
   ]
  },
  {
   "cell_type": "markdown",
   "metadata": {},
   "source": [
    "----\n",
    "\n",
    "## Step 2: Design and Test a Model Architecture\n",
    "\n",
    "Design and implement a deep learning model that learns to recognize traffic signs. Train and test your model on the [German Traffic Sign Dataset](http://benchmark.ini.rub.de/?section=gtsrb&subsection=dataset).\n",
    "\n",
    "The LeNet-5 implementation shown in the [classroom](https://classroom.udacity.com/nanodegrees/nd013/parts/fbf77062-5703-404e-b60c-95b78b2f3f9e/modules/6df7ae49-c61c-4bb2-a23e-6527e69209ec/lessons/601ae704-1035-4287-8b11-e2c2716217ad/concepts/d4aca031-508f-4e0b-b493-e7b706120f81) at the end of the CNN lesson is a solid starting point. You'll have to change the number of classes and possibly the preprocessing, but aside from that it's plug and play! \n",
    "\n",
    "With the LeNet-5 solution from the lecture, you should expect a validation set accuracy of about 0.89. To meet specifications, the validation set accuracy will need to be at least 0.93. It is possible to get an even higher accuracy, but 0.93 is the minimum for a successful project submission. \n",
    "\n",
    "There are various aspects to consider when thinking about this problem:\n",
    "\n",
    "- Neural network architecture (is the network over or underfitting?)\n",
    "- Play around preprocessing techniques (normalization, rgb to grayscale, etc)\n",
    "- Number of examples per label (some have more than others).\n",
    "- Generate fake data.\n",
    "\n",
    "Here is an example of a [published baseline model on this problem](http://yann.lecun.com/exdb/publis/pdf/sermanet-ijcnn-11.pdf). It's not required to be familiar with the approach used in the paper but, it's good practice to try to read papers like these."
   ]
  },
  {
   "cell_type": "markdown",
   "metadata": {},
   "source": [
    "### Pre-process the Data Set (normalization, grayscale, etc.)"
   ]
  },
  {
   "cell_type": "markdown",
   "metadata": {},
   "source": [
    "Minimally, the image data should be normalized so that the data has mean zero and equal variance. For image data, `(pixel - 128)/ 128` is a quick way to approximately normalize the data and can be used in this project. \n",
    "\n",
    "Other pre-processing steps are optional. You can try different techniques to see if it improves performance. \n",
    "\n",
    "Use the code cell (or multiple code cells, if necessary) to implement the first step of your project."
   ]
  },
  {
   "cell_type": "code",
   "execution_count": 6,
   "metadata": {},
   "outputs": [
    {
     "name": "stdout",
     "output_type": "stream",
     "text": [
      "(56219, 32, 32, 1)\n"
     ]
    }
   ],
   "source": [
    "cp_X_train = np.copy(aug_X_train)\n",
    "cp_y_train = np.copy(aug_y_train)\n",
    "cp_X_valid = np.copy(X_valid)\n",
    "cp_y_valid = np.copy(y_valid)\n",
    "\n",
    "def get_mean_dim(data):\n",
    "    n = data.shape[0]\n",
    "    width = data.shape[1]\n",
    "    height = data.shape[2]\n",
    "    depth = data.shape[3]\n",
    "    mean = [[0 for x in range(width)] for y in range(height)]\n",
    "    \n",
    "    for i in range(width):\n",
    "        for j in range(height):\n",
    "            for k in range(depth):\n",
    "                mean[i][j] = (np.mean(data[:,i,j,k]))\n",
    "    mean = np.array(mean)[None, :, :, None]\n",
    "    print(mean.shape)\n",
    "    return mean\n",
    "\n",
    "def get_std_dim(data):\n",
    "    n = data.shape[0]\n",
    "    width = data.shape[1]\n",
    "    height = data.shape[2]\n",
    "    depth = data.shape[3]\n",
    "    std = [[0 for x in range(width)] for y in range(height)]\n",
    "    \n",
    "    for i in range(width):\n",
    "        for j in range(height):\n",
    "            for k in range(depth):\n",
    "                std[i][j] = (np.std(data[:,i,j,k]))\n",
    "    std = np.array(std)[None, :, :, None]\n",
    "    print(std.shape)\n",
    "    return std\n",
    "\n",
    "def get_mean_all(data):\n",
    "    return np.mean(data)\n",
    "def get_std_all(data):\n",
    "    return np.std(data)\n",
    "\n",
    "#train_mean = get_mean_dim(cp_X_train)\n",
    "#train_std = get_std_dim(cp_X_train)\n",
    "#nor_X_train = (cp_X_train - train_mean) / train_std\n",
    "\n",
    "a = (1 - (0))/(255 - 0)\n",
    "b = (0) - (a*0)\n",
    "nor_X_train = a * cp_X_train + b\n",
    "\n",
    "print(nor_X_train.shape)"
   ]
  },
  {
   "cell_type": "code",
   "execution_count": 7,
   "metadata": {},
   "outputs": [
    {
     "name": "stdout",
     "output_type": "stream",
     "text": [
      "(4410, 32, 32, 1)\n"
     ]
    }
   ],
   "source": [
    "X_valid_gray = []\n",
    "for i in range(cp_X_valid.shape[0]):\n",
    "    gray_img = cv2.cvtColor(cp_X_valid[i], cv2.COLOR_BGR2GRAY)[:, :, None]\n",
    "    X_valid_gray.append(gray_img)\n",
    "X_valid_gray = np.array(X_valid_gray)\n",
    "\n",
    "#nor_X_valid = (X_valid_gray - train_mean) / train_std\n",
    "nor_X_valid = a * X_valid_gray + b\n",
    "\n",
    "print(nor_X_valid.shape)"
   ]
  },
  {
   "cell_type": "markdown",
   "metadata": {},
   "source": [
    "### Model Architecture"
   ]
  },
  {
   "cell_type": "code",
   "execution_count": 8,
   "metadata": {
    "collapsed": true
   },
   "outputs": [],
   "source": [
    "def LeNet(x, n_label):    \n",
    "    # Hyperparameters\n",
    "    mu = 0\n",
    "    sigma = 0.1\n",
    "    n_l1_filter = 18 # 6 18\n",
    "    n_l2_filter = 48 # 16 48\n",
    "    n_l3_fullconnect = 360 # 120 360\n",
    "    n_l4_fullconnect = 252 # 84 252\n",
    "    color_channel = x.shape[3].value\n",
    "    # SOLUTION: Layer 1: Convolutional. Input = 32x32x(1|3). Output = 28x28x n_l1_filter.\n",
    "    conv1_W = tf.Variable(tf.truncated_normal(shape=(5, 5, color_channel, n_l1_filter), mean = mu, stddev = sigma))\n",
    "    conv1_b = tf.Variable(tf.zeros(n_l1_filter))\n",
    "    conv1   = tf.nn.conv2d(x, conv1_W, strides=[1, 1, 1, 1], padding='VALID') + conv1_b\n",
    "\n",
    "    # SOLUTION: Activation.\n",
    "    conv1 = tf.nn.relu(conv1)\n",
    "\n",
    "    # SOLUTION: Pooling. Input = 28x28x n_l1_filter. Output = 14x14x n_l1_filter.\n",
    "    conv1 = tf.nn.max_pool(conv1, ksize=[1, 2, 2, 1], strides=[1, 2, 2, 1], padding='VALID')\n",
    "\n",
    "    # SOLUTION: Layer 2: Convolutional. Output = 10x10x n_l2_filter.\n",
    "    conv2_W = tf.Variable(tf.truncated_normal(shape=(5, 5, n_l1_filter, n_l2_filter), mean = mu, stddev = sigma))\n",
    "    conv2_b = tf.Variable(tf.zeros(n_l2_filter))\n",
    "    conv2   = tf.nn.conv2d(conv1, conv2_W, strides=[1, 1, 1, 1], padding='VALID') + conv2_b\n",
    "\n",
    "    # SOLUTION: Activation.\n",
    "    conv2 = tf.nn.relu(conv2)\n",
    "\n",
    "    # SOLUTION: Pooling. Input = 10x10x n_l2_filter. Output = 5x5x n_l2_filter.\n",
    "    conv2 = tf.nn.max_pool(conv2, ksize=[1, 2, 2, 1], strides=[1, 2, 2, 1], padding='VALID')\n",
    "\n",
    "    # SOLUTION: Flatten. Input = 5x5x n_l2_filter. Output = 5*5*n_l2_filter.\n",
    "    fc0   = flatten(conv2)\n",
    "\n",
    "    # SOLUTION: Layer 3: Fully Connected. Input = 5*5*n_l2_filter. Output = n_l3_fullconnect.\n",
    "    fc1_W = tf.Variable(tf.truncated_normal(shape=(5*5*n_l2_filter, n_l3_fullconnect), mean = mu, stddev = sigma))\n",
    "    fc1_b = tf.Variable(tf.zeros(n_l3_fullconnect))\n",
    "    fc1   = tf.matmul(fc0, fc1_W) + fc1_b\n",
    "\n",
    "    # SOLUTION: Activation.\n",
    "    fc1    = tf.nn.relu(fc1)\n",
    "\n",
    "    # SOLUTION: Layer 4: Fully Connected. Input = n_l3_fullconnect. Output = n_l4_fullconnect.\n",
    "    fc2_W  = tf.Variable(tf.truncated_normal(shape=(n_l3_fullconnect, n_l4_fullconnect), mean = mu, stddev = sigma))\n",
    "    fc2_b  = tf.Variable(tf.zeros(n_l4_fullconnect))\n",
    "    fc2    = tf.matmul(fc1, fc2_W) + fc2_b\n",
    "\n",
    "    # SOLUTION: Activation.\n",
    "    fc2    = tf.nn.relu(fc2)\n",
    "\n",
    "    # SOLUTION: Layer 5: Fully Connected. Input = n_l4_fullconnect. Output = n_label.\n",
    "    fc3_W  = tf.Variable(tf.truncated_normal(shape=(n_l4_fullconnect, n_label), mean = mu, stddev = sigma))\n",
    "    fc3_b  = tf.Variable(tf.zeros(n_label))\n",
    "    logits = tf.matmul(fc2, fc3_W) + fc3_b\n",
    "\n",
    "    return logits"
   ]
  },
  {
   "cell_type": "markdown",
   "metadata": {},
   "source": [
    "### Train, Validate and Test the Model"
   ]
  },
  {
   "cell_type": "markdown",
   "metadata": {},
   "source": [
    "A validation set can be used to assess how well the model is performing. A low accuracy on the training and validation\n",
    "sets imply underfitting. A high accuracy on the training set but low accuracy on the validation set implies overfitting."
   ]
  },
  {
   "cell_type": "code",
   "execution_count": 17,
   "metadata": {},
   "outputs": [
    {
     "name": "stdout",
     "output_type": "stream",
     "text": [
      "Total number of training data: 56219\n",
      "Training...\n",
      "\n",
      "EPOCH 1 ...\n",
      "Validation Accuracy = 0.907\n",
      "\n",
      "EPOCH 2 ...\n",
      "Validation Accuracy = 0.886\n",
      "\n",
      "EPOCH 3 ...\n",
      "Validation Accuracy = 0.936\n",
      "\n",
      "EPOCH 4 ...\n",
      "Validation Accuracy = 0.913\n",
      "\n",
      "EPOCH 5 ...\n",
      "Validation Accuracy = 0.932\n",
      "\n",
      "EPOCH 6 ...\n",
      "Validation Accuracy = 0.956\n",
      "\n",
      "EPOCH 7 ...\n",
      "Validation Accuracy = 0.908\n",
      "\n",
      "EPOCH 8 ...\n",
      "Validation Accuracy = 0.911\n",
      "\n",
      "EPOCH 9 ...\n",
      "Validation Accuracy = 0.927\n",
      "\n",
      "EPOCH 10 ...\n",
      "Validation Accuracy = 0.955\n",
      "\n",
      "EPOCH 11 ...\n",
      "Validation Accuracy = 0.944\n",
      "\n",
      "EPOCH 12 ...\n",
      "Validation Accuracy = 0.949\n",
      "\n",
      "EPOCH 13 ...\n",
      "Validation Accuracy = 0.954\n",
      "\n",
      "EPOCH 14 ...\n",
      "Validation Accuracy = 0.955\n",
      "\n",
      "EPOCH 15 ...\n",
      "Validation Accuracy = 0.949\n",
      "\n"
     ]
    },
    {
     "data": {
      "image/png": "[encoded data removed]",
      "text/plain": [
       "<matplotlib.figure.Figure at 0x12e7062e8>"
      ]
     },
     "metadata": {},
     "output_type": "display_data"
    },
    {
     "name": "stdout",
     "output_type": "stream",
     "text": [
      "Model saved\n"
     ]
    }
   ],
   "source": [
    "EPOCHS = 15\n",
    "BATCH_SIZE = 128\n",
    "color_channel = nor_X_train.shape[3]\n",
    "n_label = 43\n",
    "\n",
    "x = tf.placeholder(tf.float32, (None, 32, 32, color_channel))\n",
    "y = tf.placeholder(tf.int32, (None))\n",
    "one_hot_y = tf.one_hot(y, n_label)\n",
    "\n",
    "rate = 0.003\n",
    "   \n",
    "logits = LeNet(x, n_label)\n",
    "cross_entropy = tf.nn.softmax_cross_entropy_with_logits(labels=one_hot_y, logits=logits)\n",
    "loss_operation = tf.reduce_mean(cross_entropy)\n",
    "optimizer = tf.train.AdamOptimizer(learning_rate = rate)\n",
    "training_operation = optimizer.minimize(loss_operation)\n",
    "\n",
    "correct_prediction = tf.equal(tf.argmax(logits, 1), tf.argmax(one_hot_y, 1))\n",
    "accuracy_operation = tf.reduce_mean(tf.cast(correct_prediction, tf.float32))\n",
    "saver = tf.train.Saver()\n",
    "\n",
    "def evaluate(X_data, y_data):\n",
    "    num_examples = len(X_data)\n",
    "    total_accuracy = 0\n",
    "    sess = tf.get_default_session()\n",
    "    for offset in range(0, num_examples, BATCH_SIZE):\n",
    "        batch_x, batch_y = X_data[offset:offset+BATCH_SIZE], y_data[offset:offset+BATCH_SIZE]\n",
    "        accuracy = sess.run(accuracy_operation, feed_dict={x: batch_x, y: batch_y})\n",
    "        total_accuracy += (accuracy * len(batch_x))\n",
    "    return total_accuracy / num_examples\n",
    "\n",
    "with tf.Session() as sess:\n",
    "    sess.run(tf.global_variables_initializer())\n",
    "    num_examples = len(nor_X_train)\n",
    "    print('Total number of training data:', num_examples)\n",
    "    print(\"Training...\")\n",
    "    print()\n",
    "    \n",
    "    valid_result = []\n",
    "    \n",
    "    for i in range(EPOCHS):\n",
    "        nor_X_train, cp_y_train = shuffle(nor_X_train, cp_y_train)\n",
    "        for offset in range(0, num_examples, BATCH_SIZE):\n",
    "            end = offset + BATCH_SIZE\n",
    "            batch_x, batch_y = nor_X_train[offset:end], cp_y_train[offset:end]\n",
    "            sess.run(training_operation, feed_dict={x: batch_x, y: batch_y})\n",
    "            \n",
    "        validation_accuracy = evaluate(nor_X_valid, cp_y_valid)\n",
    "        print(\"EPOCH {} ...\".format(i+1))\n",
    "        print(\"Validation Accuracy = {:.3f}\".format(validation_accuracy))\n",
    "        print()\n",
    "        valid_result.append(validation_accuracy)\n",
    "    \n",
    "    x_label = [i+1 for i in range(len(valid_result))]\n",
    "    plt.plot(x_label, valid_result)\n",
    "    plt.ylabel('Accuracy')\n",
    "    plt.xlabel('Epoch')\n",
    "    plt.show('fig_photo/label_distribution.png')\n",
    "    \n",
    "    saver.save(sess, './lenet')\n",
    "    print(\"Model saved\")"
   ]
  },
  {
   "cell_type": "code",
   "execution_count": null,
   "metadata": {},
   "outputs": [],
   "source": [
    "# Plot \n",
    "x_label = [1, 2, 3, 4, 5, 6, 7, 8, 9, 10, 11, 12, 13, 14, 15]\n",
    "gray_ls = [0.710, 0.818, 0.834, 0.855, 0.860, 0.873, 0.868, 0.877, 0.885, 0.876, 0.887, 0.869, 0.889, 0.899, 0.893]\n",
    "color_ls = [0.641, 0.783, 0.822, 0.853, 0.866, 0.881, 0.882, 0.898, 0.874, 0.890, 0.888, 0.888, 0.895, 0.910, 0.885]\n",
    "plt.plot(x_label, gray_ls, label='Grayscale',)\n",
    "plt.plot(x_label, color_ls, label='Color')\n",
    "plt.legend()\n",
    "plt.xlabel('EPOCHS')\n",
    "plt.ylabel('Validation Dataset Accuracy')\n",
    "plt.title('Comparisson between grayscale and color images')\n",
    "plt.savefig('fig_photo/cmp_color_gray.png')\n",
    "plt.show()\n",
    "\n",
    "x_label = [1, 2, 3, 4, 5, 6, 7, 8, 9, 10, 11, 12, 13, 14, 15]\n",
    "zero2one_ls = [0.668, 0.795, 0.851, 0.852, 0.875, 0.884, 0.899, 0.896, 0.899, 0.905, 0.894, 0.898, 0.898, 0.900, 0.897]\n",
    "minusone2one_ls = [0.710, 0.797, 0.854, 0.870, 0.864, 0.878, 0.873, 0.884, 0.883, 0.882, 0.888, 0.885, 0.897, 0.885, 0.889]\n",
    "mean_std_ls = [0.763, 0.833, 0.859, 0.870, 0.880, 0.888, 0.890, 0.874, 0.883, 0.885, 0.894, 0.907, 0.895, 0.895, 0.904]\n",
    "plt.plot(x_label, zero2one_ls, label='0 to 1')\n",
    "plt.plot(x_label, minusone2one_ls, label='-1 to 1')\n",
    "plt.plot(x_label, mean_std_ls, label='standardize')\n",
    "plt.legend()\n",
    "plt.xlabel('EPOCHS')\n",
    "plt.ylabel('Validation Dataset Accuracy')\n",
    "plt.title('Comparisson between three normalization dataset')\n",
    "plt.savefig('fig_photo/cmp_normalize.png')\n",
    "plt.show()"
   ]
  },
  {
   "cell_type": "code",
   "execution_count": 21,
   "metadata": {},
   "outputs": [
    {
     "name": "stdout",
     "output_type": "stream",
     "text": [
      "(12630, 32, 32, 1)\n",
      "(12630,)\n",
      "INFO:tensorflow:Restoring parameters from ./lenet\n",
      "Test Accuracy = 0.989\n",
      "INFO:tensorflow:Restoring parameters from ./lenet\n",
      "Test Accuracy = 0.949\n",
      "INFO:tensorflow:Restoring parameters from ./lenet\n",
      "Test Accuracy = 0.934\n"
     ]
    }
   ],
   "source": [
    "cp_X_test = np.copy(X_test)\n",
    "cp_y_test = np.copy(y_test)\n",
    "\n",
    "X_test_gray = []\n",
    "for i in range(X_test.shape[0]):\n",
    "    gray_img = cv2.cvtColor(cp_X_test[i], cv2.COLOR_BGR2GRAY)[:, :, None]\n",
    "    X_test_gray.append(gray_img)\n",
    "X_test_gray = np.array(X_test_gray)\n",
    "nor_X_test = a * X_test_gray + b\n",
    "print(nor_X_test.shape)\n",
    "print(cp_y_test.shape)\n",
    "# Training Accuracy\n",
    "with tf.Session() as sess:\n",
    "    saver.restore(sess, tf.train.latest_checkpoint('.'))\n",
    "\n",
    "    train_accuracy = evaluate(X_train_gray, y_train)\n",
    "    print(\"Test Accuracy = {:.3f}\".format(train_accuracy))   \n",
    "\n",
    "# Validation Accuracy\n",
    "with tf.Session() as sess:\n",
    "    saver.restore(sess, tf.train.latest_checkpoint('.'))\n",
    "\n",
    "    valid_accuracy = evaluate(nor_X_valid, cp_y_valid)\n",
    "    print(\"Test Accuracy = {:.3f}\".format(valid_accuracy))\n",
    "\n",
    "# Testing Accuracy\n",
    "with tf.Session() as sess:\n",
    "    saver.restore(sess, tf.train.latest_checkpoint('.'))\n",
    "\n",
    "    test_accuracy = evaluate(nor_X_test, cp_y_test)\n",
    "    print(\"Test Accuracy = {:.3f}\".format(test_accuracy))"
   ]
  },
  {
   "cell_type": "markdown",
   "metadata": {},
   "source": [
    "---\n",
    "\n",
    "## Step 3: Test a Model on New Images\n",
    "\n",
    "To give yourself more insight into how your model is working, download at least five pictures of German traffic signs from the web and use your model to predict the traffic sign type.\n",
    "\n",
    "You may find `signnames.csv` useful as it contains mappings from the class id (integer) to the actual sign name."
   ]
  },
  {
   "cell_type": "markdown",
   "metadata": {},
   "source": [
    "### Load and Output the Images"
   ]
  },
  {
   "cell_type": "code",
   "execution_count": 30,
   "metadata": {},
   "outputs": [
    {
     "name": "stdout",
     "output_type": "stream",
     "text": [
      "[[[[197]\n",
      "   [209]\n",
      "   [175]\n",
      "   ..., \n",
      "   [170]\n",
      "   [160]\n",
      "   [160]]\n",
      "\n",
      "  [[188]\n",
      "   [199]\n",
      "   [190]\n",
      "   ..., \n",
      "   [163]\n",
      "   [163]\n",
      "   [110]]\n",
      "\n",
      "  [[182]\n",
      "   [199]\n",
      "   [202]\n",
      "   ..., \n",
      "   [168]\n",
      "   [160]\n",
      "   [161]]\n",
      "\n",
      "  ..., \n",
      "  [[178]\n",
      "   [184]\n",
      "   [ 80]\n",
      "   ..., \n",
      "   [ 98]\n",
      "   [124]\n",
      "   [ 93]]\n",
      "\n",
      "  [[164]\n",
      "   [111]\n",
      "   [ 92]\n",
      "   ..., \n",
      "   [136]\n",
      "   [ 56]\n",
      "   [ 53]]\n",
      "\n",
      "  [[105]\n",
      "   [ 89]\n",
      "   [ 72]\n",
      "   ..., \n",
      "   [ 66]\n",
      "   [ 96]\n",
      "   [102]]]]\n",
      "[[[[197]\n",
      "   [209]\n",
      "   [175]\n",
      "   ..., \n",
      "   [170]\n",
      "   [160]\n",
      "   [160]]\n",
      "\n",
      "  [[188]\n",
      "   [199]\n",
      "   [190]\n",
      "   ..., \n",
      "   [163]\n",
      "   [163]\n",
      "   [110]]\n",
      "\n",
      "  [[182]\n",
      "   [199]\n",
      "   [202]\n",
      "   ..., \n",
      "   [168]\n",
      "   [160]\n",
      "   [161]]\n",
      "\n",
      "  ..., \n",
      "  [[178]\n",
      "   [184]\n",
      "   [ 80]\n",
      "   ..., \n",
      "   [ 98]\n",
      "   [124]\n",
      "   [ 93]]\n",
      "\n",
      "  [[164]\n",
      "   [111]\n",
      "   [ 92]\n",
      "   ..., \n",
      "   [136]\n",
      "   [ 56]\n",
      "   [ 53]]\n",
      "\n",
      "  [[105]\n",
      "   [ 89]\n",
      "   [ 72]\n",
      "   ..., \n",
      "   [ 66]\n",
      "   [ 96]\n",
      "   [102]]]\n",
      "\n",
      "\n",
      " [[[217]\n",
      "   [208]\n",
      "   [208]\n",
      "   ..., \n",
      "   [167]\n",
      "   [ 84]\n",
      "   [ 84]]\n",
      "\n",
      "  [[130]\n",
      "   [125]\n",
      "   [117]\n",
      "   ..., \n",
      "   [ 78]\n",
      "   [ 89]\n",
      "   [ 89]]\n",
      "\n",
      "  [[ 93]\n",
      "   [ 89]\n",
      "   [ 96]\n",
      "   ..., \n",
      "   [ 72]\n",
      "   [ 76]\n",
      "   [ 68]]\n",
      "\n",
      "  ..., \n",
      "  [[123]\n",
      "   [124]\n",
      "   [126]\n",
      "   ..., \n",
      "   [119]\n",
      "   [111]\n",
      "   [106]]\n",
      "\n",
      "  [[123]\n",
      "   [128]\n",
      "   [173]\n",
      "   ..., \n",
      "   [112]\n",
      "   [114]\n",
      "   [109]]\n",
      "\n",
      "  [[194]\n",
      "   [188]\n",
      "   [158]\n",
      "   ..., \n",
      "   [114]\n",
      "   [117]\n",
      "   [116]]]]\n",
      "(6,)\n"
     ]
    },
    {
     "ename": "IndexError",
     "evalue": "invalid index to scalar variable.",
     "output_type": "error",
     "traceback": [
      "\u001b[0;31m---------------------------------------------------------------------------\u001b[0m",
      "\u001b[0;31mIndexError\u001b[0m                                Traceback (most recent call last)",
      "\u001b[0;32m<ipython-input-30-76c7cf34a0eb>\u001b[0m in \u001b[0;36m<module>\u001b[0;34m()\u001b[0m\n\u001b[1;32m     12\u001b[0m \u001b[0mprint\u001b[0m\u001b[0;34m(\u001b[0m\u001b[0mans\u001b[0m\u001b[0;34m.\u001b[0m\u001b[0mshape\u001b[0m\u001b[0;34m)\u001b[0m\u001b[0;34m\u001b[0m\u001b[0m\n\u001b[1;32m     13\u001b[0m \u001b[0;32mwith\u001b[0m \u001b[0mtf\u001b[0m\u001b[0;34m.\u001b[0m\u001b[0mSession\u001b[0m\u001b[0;34m(\u001b[0m\u001b[0;34m)\u001b[0m \u001b[0;32mas\u001b[0m \u001b[0msess\u001b[0m\u001b[0;34m:\u001b[0m\u001b[0;34m\u001b[0m\u001b[0m\n\u001b[0;32m---> 14\u001b[0;31m     \u001b[0maccuracy\u001b[0m \u001b[0;34m=\u001b[0m \u001b[0mevaluate\u001b[0m\u001b[0;34m(\u001b[0m\u001b[0mimg0\u001b[0m\u001b[0;34m,\u001b[0m \u001b[0mans\u001b[0m\u001b[0;34m[\u001b[0m\u001b[0;36m0\u001b[0m\u001b[0;34m]\u001b[0m\u001b[0;34m)\u001b[0m\u001b[0;34m\u001b[0m\u001b[0m\n\u001b[0m\u001b[1;32m     15\u001b[0m \u001b[0mprint\u001b[0m\u001b[0;34m(\u001b[0m\u001b[0maccuracy\u001b[0m\u001b[0;34m)\u001b[0m\u001b[0;34m\u001b[0m\u001b[0m\n\u001b[1;32m     16\u001b[0m \u001b[0;34m\u001b[0m\u001b[0m\n",
      "\u001b[0;32m<ipython-input-17-fc79524a2093>\u001b[0m in \u001b[0;36mevaluate\u001b[0;34m(X_data, y_data)\u001b[0m\n\u001b[1;32m     25\u001b[0m     \u001b[0msess\u001b[0m \u001b[0;34m=\u001b[0m \u001b[0mtf\u001b[0m\u001b[0;34m.\u001b[0m\u001b[0mget_default_session\u001b[0m\u001b[0;34m(\u001b[0m\u001b[0;34m)\u001b[0m\u001b[0;34m\u001b[0m\u001b[0m\n\u001b[1;32m     26\u001b[0m     \u001b[0;32mfor\u001b[0m \u001b[0moffset\u001b[0m \u001b[0;32min\u001b[0m \u001b[0mrange\u001b[0m\u001b[0;34m(\u001b[0m\u001b[0;36m0\u001b[0m\u001b[0;34m,\u001b[0m \u001b[0mnum_examples\u001b[0m\u001b[0;34m,\u001b[0m \u001b[0mBATCH_SIZE\u001b[0m\u001b[0;34m)\u001b[0m\u001b[0;34m:\u001b[0m\u001b[0;34m\u001b[0m\u001b[0m\n\u001b[0;32m---> 27\u001b[0;31m         \u001b[0mbatch_x\u001b[0m\u001b[0;34m,\u001b[0m \u001b[0mbatch_y\u001b[0m \u001b[0;34m=\u001b[0m \u001b[0mX_data\u001b[0m\u001b[0;34m[\u001b[0m\u001b[0moffset\u001b[0m\u001b[0;34m:\u001b[0m\u001b[0moffset\u001b[0m\u001b[0;34m+\u001b[0m\u001b[0mBATCH_SIZE\u001b[0m\u001b[0;34m]\u001b[0m\u001b[0;34m,\u001b[0m \u001b[0my_data\u001b[0m\u001b[0;34m[\u001b[0m\u001b[0moffset\u001b[0m\u001b[0;34m:\u001b[0m\u001b[0moffset\u001b[0m\u001b[0;34m+\u001b[0m\u001b[0mBATCH_SIZE\u001b[0m\u001b[0;34m]\u001b[0m\u001b[0;34m\u001b[0m\u001b[0m\n\u001b[0m\u001b[1;32m     28\u001b[0m         \u001b[0maccuracy\u001b[0m \u001b[0;34m=\u001b[0m \u001b[0msess\u001b[0m\u001b[0;34m.\u001b[0m\u001b[0mrun\u001b[0m\u001b[0;34m(\u001b[0m\u001b[0maccuracy_operation\u001b[0m\u001b[0;34m,\u001b[0m \u001b[0mfeed_dict\u001b[0m\u001b[0;34m=\u001b[0m\u001b[0;34m{\u001b[0m\u001b[0mx\u001b[0m\u001b[0;34m:\u001b[0m \u001b[0mbatch_x\u001b[0m\u001b[0;34m,\u001b[0m \u001b[0my\u001b[0m\u001b[0;34m:\u001b[0m \u001b[0mbatch_y\u001b[0m\u001b[0;34m}\u001b[0m\u001b[0;34m)\u001b[0m\u001b[0;34m\u001b[0m\u001b[0m\n\u001b[1;32m     29\u001b[0m         \u001b[0mtotal_accuracy\u001b[0m \u001b[0;34m+=\u001b[0m \u001b[0;34m(\u001b[0m\u001b[0maccuracy\u001b[0m \u001b[0;34m*\u001b[0m \u001b[0mlen\u001b[0m\u001b[0;34m(\u001b[0m\u001b[0mbatch_x\u001b[0m\u001b[0;34m)\u001b[0m\u001b[0;34m)\u001b[0m\u001b[0;34m\u001b[0m\u001b[0m\n",
      "\u001b[0;31mIndexError\u001b[0m: invalid index to scalar variable."
     ]
    }
   ],
   "source": [
    "img = cv2.imread('fig_photo/test_from_web_00.png',0)[None, :, :, None]\n",
    "img = np.concatenate((img, cv2.imread('fig_photo/test_from_web_01.png',0)[None, :, :, None]))\n",
    "img = np.concatenate((img, cv2.imread('fig_photo/test_from_web_02.png',0)[None, :, :, None]))\n",
    "img = np.concatenate((img, cv2.imread('fig_photo/test_from_web_03.png',0)[None, :, :, None]))\n",
    "img = np.concatenate((img, cv2.imread('fig_photo/test_from_web_04.png',0)[None, :, :, None]))\n",
    "img = np.concatenate((img, cv2.imread('fig_photo/test_from_web_05.png',0)[None, :, :, None]))\n",
    "\n",
    "ans = np.array([4, 1, 3, 14, 14, 18])\n",
    "print(ans.shape)\n",
    "with tf.Session() as sess:\n",
    "    accuracy = evaluate(img0, ans[0])\n",
    "print(accuracy)\n",
    "    "
   ]
  },
  {
   "cell_type": "markdown",
   "metadata": {},
   "source": [
    "### Predict the Sign Type for Each Image"
   ]
  },
  {
   "cell_type": "code",
   "execution_count": null,
   "metadata": {
    "collapsed": true
   },
   "outputs": [],
   "source": [
    "### Run the predictions here and use the model to output the prediction for each image.\n",
    "### Make sure to pre-process the images with the same pre-processing pipeline used earlier.\n",
    "### Feel free to use as many code cells as needed."
   ]
  },
  {
   "cell_type": "markdown",
   "metadata": {},
   "source": [
    "### Analyze Performance"
   ]
  },
  {
   "cell_type": "code",
   "execution_count": null,
   "metadata": {
    "collapsed": true
   },
   "outputs": [],
   "source": [
    "### Calculate the accuracy for these 5 new images. \n",
    "### For example, if the model predicted 1 out of 5 signs correctly, it's 20% accurate on these new images."
   ]
  },
  {
   "cell_type": "markdown",
   "metadata": {},
   "source": [
    "### Output Top 5 Softmax Probabilities For Each Image Found on the Web"
   ]
  },
  {
   "cell_type": "markdown",
   "metadata": {},
   "source": [
    "For each of the new images, print out the model's softmax probabilities to show the **certainty** of the model's predictions (limit the output to the top 5 probabilities for each image). [`tf.nn.top_k`](https://www.tensorflow.org/versions/r0.12/api_docs/python/nn.html#top_k) could prove helpful here. \n",
    "\n",
    "The example below demonstrates how tf.nn.top_k can be used to find the top k predictions for each image.\n",
    "\n",
    "`tf.nn.top_k` will return the values and indices (class ids) of the top k predictions. So if k=3, for each sign, it'll return the 3 largest probabilities (out of a possible 43) and the correspoding class ids.\n",
    "\n",
    "Take this numpy array as an example. The values in the array represent predictions. The array contains softmax probabilities for five candidate images with six possible classes. `tk.nn.top_k` is used to choose the three classes with the highest probability:\n",
    "\n",
    "```\n",
    "# (5, 6) array\n",
    "a = np.array([[ 0.24879643,  0.07032244,  0.12641572,  0.34763842,  0.07893497,\n",
    "         0.12789202],\n",
    "       [ 0.28086119,  0.27569815,  0.08594638,  0.0178669 ,  0.18063401,\n",
    "         0.15899337],\n",
    "       [ 0.26076848,  0.23664738,  0.08020603,  0.07001922,  0.1134371 ,\n",
    "         0.23892179],\n",
    "       [ 0.11943333,  0.29198961,  0.02605103,  0.26234032,  0.1351348 ,\n",
    "         0.16505091],\n",
    "       [ 0.09561176,  0.34396535,  0.0643941 ,  0.16240774,  0.24206137,\n",
    "         0.09155967]])\n",
    "```\n",
    "\n",
    "Running it through `sess.run(tf.nn.top_k(tf.constant(a), k=3))` produces:\n",
    "\n",
    "```\n",
    "TopKV2(values=array([[ 0.34763842,  0.24879643,  0.12789202],\n",
    "       [ 0.28086119,  0.27569815,  0.18063401],\n",
    "       [ 0.26076848,  0.23892179,  0.23664738],\n",
    "       [ 0.29198961,  0.26234032,  0.16505091],\n",
    "       [ 0.34396535,  0.24206137,  0.16240774]]), indices=array([[3, 0, 5],\n",
    "       [0, 1, 4],\n",
    "       [0, 5, 1],\n",
    "       [1, 3, 5],\n",
    "       [1, 4, 3]], dtype=int32))\n",
    "```\n",
    "\n",
    "Looking just at the first row we get `[ 0.34763842,  0.24879643,  0.12789202]`, you can confirm these are the 3 largest probabilities in `a`. You'll also notice `[3, 0, 5]` are the corresponding indices."
   ]
  },
  {
   "cell_type": "code",
   "execution_count": null,
   "metadata": {
    "collapsed": true
   },
   "outputs": [],
   "source": [
    "### Print out the top five softmax probabilities for the predictions on the German traffic sign images found on the web. \n",
    "### Feel free to use as many code cells as needed."
   ]
  },
  {
   "cell_type": "markdown",
   "metadata": {},
   "source": [
    "### Project Writeup\n",
    "\n",
    "Once you have completed the code implementation, document your results in a project writeup using this [template](https://github.com/udacity/CarND-Traffic-Sign-Classifier-Project/blob/master/writeup_template.md) as a guide. The writeup can be in a markdown or pdf file. "
   ]
  },
  {
   "cell_type": "markdown",
   "metadata": {},
   "source": [
    "> **Note**: Once you have completed all of the code implementations and successfully answered each question above, you may finalize your work by exporting the iPython Notebook as an HTML document. You can do this by using the menu above and navigating to  \\n\",\n",
    "    \"**File -> Download as -> HTML (.html)**. Include the finished document along with this notebook as your submission."
   ]
  },
  {
   "cell_type": "markdown",
   "metadata": {},
   "source": [
    "---\n",
    "\n",
    "## Step 4 (Optional): Visualize the Neural Network's State with Test Images\n",
    "\n",
    " This Section is not required to complete but acts as an additional excersise for understaning the output of a neural network's weights. While neural networks can be a great learning device they are often referred to as a black box. We can understand what the weights of a neural network look like better by plotting their feature maps. After successfully training your neural network you can see what it's feature maps look like by plotting the output of the network's weight layers in response to a test stimuli image. From these plotted feature maps, it's possible to see what characteristics of an image the network finds interesting. For a sign, maybe the inner network feature maps react with high activation to the sign's boundary outline or to the contrast in the sign's painted symbol.\n",
    "\n",
    " Provided for you below is the function code that allows you to get the visualization output of any tensorflow weight layer you want. The inputs to the function should be a stimuli image, one used during training or a new one you provided, and then the tensorflow variable name that represents the layer's state during the training process, for instance if you wanted to see what the [LeNet lab's](https://classroom.udacity.com/nanodegrees/nd013/parts/fbf77062-5703-404e-b60c-95b78b2f3f9e/modules/6df7ae49-c61c-4bb2-a23e-6527e69209ec/lessons/601ae704-1035-4287-8b11-e2c2716217ad/concepts/d4aca031-508f-4e0b-b493-e7b706120f81) feature maps looked like for it's second convolutional layer you could enter conv2 as the tf_activation variable.\n",
    "\n",
    "For an example of what feature map outputs look like, check out NVIDIA's results in their paper [End-to-End Deep Learning for Self-Driving Cars](https://devblogs.nvidia.com/parallelforall/deep-learning-self-driving-cars/) in the section Visualization of internal CNN State. NVIDIA was able to show that their network's inner weights had high activations to road boundary lines by comparing feature maps from an image with a clear path to one without. Try experimenting with a similar test to show that your trained network's weights are looking for interesting features, whether it's looking at differences in feature maps from images with or without a sign, or even what feature maps look like in a trained network vs a completely untrained one on the same sign image.\n",
    "\n",
    "<figure>\n",
    " <img src=\"visualize_cnn.png\" width=\"380\" alt=\"Combined Image\" />\n",
    " <figcaption>\n",
    " <p></p> \n",
    " <p style=\"text-align: center;\"> Your output should look something like this (above)</p> \n",
    " </figcaption>\n",
    "</figure>\n",
    " <p></p> \n"
   ]
  },
  {
   "cell_type": "code",
   "execution_count": null,
   "metadata": {
    "collapsed": true
   },
   "outputs": [],
   "source": [
    "### Visualize your network's feature maps here.\n",
    "### Feel free to use as many code cells as needed.\n",
    "\n",
    "# image_input: the test image being fed into the network to produce the feature maps\n",
    "# tf_activation: should be a tf variable name used during your training procedure that represents the calculated state of a specific weight layer\n",
    "# activation_min/max: can be used to view the activation contrast in more detail, by default matplot sets min and max to the actual min and max values of the output\n",
    "# plt_num: used to plot out multiple different weight feature map sets on the same block, just extend the plt number for each new feature map entry\n",
    "\n",
    "def outputFeatureMap(image_input, tf_activation, activation_min=-1, activation_max=-1 ,plt_num=1):\n",
    "    # Here make sure to preprocess your image_input in a way your network expects\n",
    "    # with size, normalization, ect if needed\n",
    "    # image_input =\n",
    "    # Note: x should be the same name as your network's tensorflow data placeholder variable\n",
    "    # If you get an error tf_activation is not defined it may be having trouble accessing the variable from inside a function\n",
    "    activation = tf_activation.eval(session=sess,feed_dict={x : image_input})\n",
    "    featuremaps = activation.shape[3]\n",
    "    plt.figure(plt_num, figsize=(15,15))\n",
    "    for featuremap in range(featuremaps):\n",
    "        plt.subplot(6,8, featuremap+1) # sets the number of feature maps to show on each row and column\n",
    "        plt.title('FeatureMap ' + str(featuremap)) # displays the feature map number\n",
    "        if activation_min != -1 & activation_max != -1:\n",
    "            plt.imshow(activation[0,:,:, featuremap], interpolation=\"nearest\", vmin =activation_min, vmax=activation_max, cmap=\"gray\")\n",
    "        elif activation_max != -1:\n",
    "            plt.imshow(activation[0,:,:, featuremap], interpolation=\"nearest\", vmax=activation_max, cmap=\"gray\")\n",
    "        elif activation_min !=-1:\n",
    "            plt.imshow(activation[0,:,:, featuremap], interpolation=\"nearest\", vmin=activation_min, cmap=\"gray\")\n",
    "        else:\n",
    "            plt.imshow(activation[0,:,:, featuremap], interpolation=\"nearest\", cmap=\"gray\")"
   ]
  }
 ],
 "metadata": {
  "anaconda-cloud": {},
  "kernelspec": {
   "display_name": "Python 3",
   "language": "python",
   "name": "python3"
  },
  "language_info": {
   "codemirror_mode": {
    "name": "ipython",
    "version": 3
   },
   "file_extension": ".py",
   "mimetype": "text/x-python",
   "name": "python",
   "nbconvert_exporter": "python",
   "pygments_lexer": "ipython3",
   "version": "3.5.2"
  },
  "widgets": {
   "state": {},
   "version": "1.1.2"
  }
 },
 "nbformat": 4,
 "nbformat_minor": 1
}
